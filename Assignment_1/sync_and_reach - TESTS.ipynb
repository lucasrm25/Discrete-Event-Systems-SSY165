{
 "cells": [
  {
   "cell_type": "markdown",
   "metadata": {
    "deletable": false,
    "editable": false,
    "nbgrader": {
     "checksum": "2b163c76ffa6f9ec5cd5e13eea0a85cf",
     "grade": false,
     "grade_id": "cell-6ec5aa4507a8f918",
     "locked": true,
     "schema_version": 1,
     "solution": false
    }
   },
   "source": [
    "<center>\n",
    "\n",
    "# Discrete Event Systems\n",
    "\n",
    "## Home Assignment 1\n",
    "\n",
    "### Synchronization and Reachability Analysis\n",
    "\n",
    "- - -"
   ]
  },
  {
   "cell_type": "markdown",
   "metadata": {
    "deletable": false,
    "editable": false,
    "nbgrader": {
     "checksum": "62428a8561994b257b789bc76c09c209",
     "grade": false,
     "grade_id": "cell-d299ce342e54a4d8",
     "locked": true,
     "schema_version": 1,
     "solution": false
    }
   },
   "source": [
    "# Introduction\n",
    "\n",
    "The objective of the home assignment is to get a deeper understanding of some basic features of discrete event systems. This will be achieved by implementing a few key functions in Python, including the computation of reachable and coreachable states, as well as the synchronous composition of two automata. These functions are then applied to the analysis of a simple coordination control system.\n",
    "\n",
    "This home assignment is performend in *two member groups*. Write all your answers into this notebook and **submit only this notebook (.ipynb) on PingPong**"
   ]
  },
  {
   "cell_type": "markdown",
   "metadata": {
    "deletable": false,
    "editable": false,
    "nbgrader": {
     "checksum": "886733744158173587a2f730eb1c4181",
     "grade": false,
     "grade_id": "cell-8dfe6514b5b0e564",
     "locked": true,
     "schema_version": 1,
     "solution": false
    }
   },
   "source": [
    "## Comments and Recommendations\n",
    "\n",
    "* Whitespaces do matter in Python! Always check that you have the right amount of indentation. If you need a refresher on programming in Python check [this](https://wiki.python.org/moin/BeginnersGuide/Programmers) out, where you can find links to tutorials like [Google's Python class](https://developers.google.com/edu/python/). Wikipedia also has a great overview of [Python's syntax and semantics](https://en.wikipedia.org/wiki/Python_syntax_and_semantics). [learnpython.org](https://www.learnpython.org/) is a great resource too.\n",
    "* We will work extensively with **sets** in this assignment. A set is created either through `set( )` or by listing its elements between curly braces `{*iterable*}`. An empty set must be created by `set()`. `{}` will create an empty dictionary. You will also see often something like `{elem for elem in items if elem}`. This is called a *set comprehension* and builds efficiently a new set by iterating over `items` and adding the `elem` for which the if-statement is true. Have an extensive look at [the set documentation](https://docs.python.org/3.6/library/stdtypes.html#set) for more information on set methods.  \n",
    "* This assignment is written for Python 3.5 or later! Executing it with Python version 2.7 won't work.\n",
    "* If you get stuck with Python or Jupyter, try to google it! E.g. your search query could be *\"python --INSERT ERROR HERE--\"*. Chances are high, heaps of people had the same problem before you.\n",
    "* To show line numbers in a cell, go to *View* and click on *Toggle Line Numbers*.\n",
    "* If your code passes all the tests in this notebook, you are on a good way. That does not mean you have passed though! We will test your code with additional edge cases. So convice yourself that everything is correct before you submit."
   ]
  },
  {
   "cell_type": "markdown",
   "metadata": {
    "deletable": false,
    "editable": false,
    "nbgrader": {
     "checksum": "c1ff1490f5f6ed2f4bc2f7a407965184",
     "grade": false,
     "grade_id": "cell-14d9e8d5cc01d1b4",
     "locked": true,
     "schema_version": 1,
     "solution": false
    }
   },
   "source": [
    "- - -"
   ]
  },
  {
   "cell_type": "markdown",
   "metadata": {
    "deletable": false,
    "editable": false,
    "nbgrader": {
     "checksum": "b9192a62ae233ebec58c566d1092bb53",
     "grade": false,
     "grade_id": "cell-bd0cf70d10622a53",
     "locked": true,
     "schema_version": 1,
     "solution": false
    }
   },
   "source": [
    "# Preliminaries\n",
    "\n",
    "The code below defines the transition and the automaton class. Transitions are implemented as [named tuples](https://docs.python.org/3.6/library/collections.html?highlight=collections#collections.namedtuple). It also creates two automata **P1** and **P2**. You do not need to change anything here, but make sure you understand the code. "
   ]
  },
  {
   "cell_type": "code",
   "execution_count": 1,
   "metadata": {
    "deletable": false,
    "editable": false,
    "nbgrader": {
     "checksum": "9482e25394ce036de3bd6fc3896cab6a",
     "grade": false,
     "grade_id": "defs",
     "locked": true,
     "schema_version": 1,
     "solution": false
    }
   },
   "outputs": [],
   "source": [
    "from collections import namedtuple\n",
    "\n",
    "\n",
    "Transition = namedtuple(typename='Transition', field_names=['source', 'event', 'target'])\n",
    "\n",
    "\n",
    "class Automaton(object):\n",
    "    \n",
    "    def __init__(self, states, init, events, trans, marked=None, forbidden=None):\n",
    "        \"\"\"\n",
    "        This is the constructor of the automaton. \n",
    "        \n",
    "        At creation, the automaton gets the following attributes assigned:\n",
    "        :param states: A set of states\n",
    "        :param init: The initial state\n",
    "        :param events: A set of events\n",
    "        :param transitions: A set of transitions\n",
    "        :param marked: (Optional) A set of marked states\n",
    "        :param forbidden: (Optional) A set of forbidden states\n",
    "        \"\"\"\n",
    "        self.states = self._validate_set(states)\n",
    "        self.init = self._validate_init(init)\n",
    "        self.events = self._validate_set(events)\n",
    "        self.trans = self._validate_transitions(trans)\n",
    "        self.marked = self._validate_subset(marked) if marked else set()\n",
    "        self.forbidden = self._validate_subset(forbidden) if forbidden else set()\n",
    "    \n",
    "    def __str__(self):\n",
    "        return 'states: \\n\\t{}\\ninit: \\n\\t{}\\nevents: \\n\\t{}\\ntransitions: \\n\\t{}\\nmarked: \\n\\t{}\\nforbidden: \\n\\t{}\\n'.format(\n",
    "            self.states, self.init, self.events, '\\n\\t'.join([str(t) for t in self.trans]), self.marked, self.forbidden)\n",
    "        \n",
    "    @staticmethod\n",
    "    def _validate_set(states):\n",
    "        \"\"\"\n",
    "        Checks that states is a set and the states in it are strings or integers.\n",
    "        \"\"\"\n",
    "        assert isinstance(states, set)\n",
    "        for state in states:\n",
    "            assert isinstance(state, str) or isinstance(state, int), 'A state must be \\\n",
    "                either of type string or integer!'\n",
    "        return states\n",
    "    \n",
    "    def _validate_subset(self, subset):\n",
    "        \"\"\"\n",
    "        Validates the set and checks whether the states in the subset are part of the state set.\n",
    "        \"\"\"\n",
    "        subset = self._validate_set(subset)\n",
    "        assert subset.issubset(self.states), 'Marked and forbidden states must be subsets of all states!'\n",
    "        return subset\n",
    "    \n",
    "    def _validate_init(self, state):\n",
    "        \"\"\"\n",
    "        Checks whether the state is part of the state set.\n",
    "        \"\"\"\n",
    "        assert isinstance(state, str) or isinstance(state, int), 'The initial state must be of type string or integer!'\n",
    "        assert state in self.states, 'The initial state must be member of states!'\n",
    "        return state\n",
    "    \n",
    "    def _validate_transitions(self, transitions):\n",
    "        \"\"\"\n",
    "        Checks that all transition elements are part in the respective sets (states, events). \n",
    "        \"\"\"\n",
    "        assert isinstance(transitions, set)\n",
    "        for transition in transitions:\n",
    "            assert isinstance(transition, Transition)\n",
    "            assert transition.source in self.states\n",
    "            assert transition.event in self.events\n",
    "            assert transition.target in self.states\n",
    "        return transitions\n"
   ]
  },
  {
   "cell_type": "code",
   "execution_count": 2,
   "metadata": {
    "deletable": false,
    "editable": false,
    "nbgrader": {
     "checksum": "06e270f7cd45e01e6c1fd5c65710b9af",
     "grade": false,
     "grade_id": "cell-8e20f4f7c63b525d",
     "locked": true,
     "schema_version": 1,
     "solution": false
    }
   },
   "outputs": [
    {
     "name": "stdout",
     "output_type": "stream",
     "text": [
      "states: \n",
      "\t{'p12', 'p11'}\n",
      "init: \n",
      "\tp11\n",
      "events: \n",
      "\t{'b', 'a'}\n",
      "transitions: \n",
      "\tTransition(source='p12', event='b', target='p11')\n",
      "\tTransition(source='p11', event='a', target='p12')\n",
      "marked: \n",
      "\t{'p12', 'p11'}\n",
      "forbidden: \n",
      "\tset()\n",
      "\n"
     ]
    }
   ],
   "source": [
    "# Now we create an automaton with the following parameters\n",
    "\n",
    "states = {'p11', 'p12'}\n",
    "init = 'p11'\n",
    "events = {'a', 'b'}\n",
    "trans = {Transition('p11', 'a', 'p12'),\n",
    "         Transition('p12', 'b', 'p11')}\n",
    "marked = {'p11', 'p12'}\n",
    "\n",
    "p1 = Automaton(states, init, events, trans, marked)\n",
    "print(p1)"
   ]
  },
  {
   "cell_type": "code",
   "execution_count": 3,
   "metadata": {
    "deletable": false,
    "editable": false,
    "nbgrader": {
     "checksum": "55460136198f509d790e6712aa367786",
     "grade": false,
     "grade_id": "cell-8fbada45ec6ef1ae",
     "locked": true,
     "schema_version": 1,
     "solution": false
    }
   },
   "outputs": [
    {
     "name": "stdout",
     "output_type": "stream",
     "text": [
      "P1:\n"
     ]
    },
    {
     "data": {
      "image/png": "[encoded data removed]",
      "text/plain": [
       "<IPython.core.display.Image object>"
      ]
     },
     "execution_count": 3,
     "metadata": {},
     "output_type": "execute_result"
    }
   ],
   "source": [
    "from util import plot_automaton\n",
    "\n",
    "print('P1:')\n",
    "plot_automaton(automaton=p1, file_name_no_extension='P1')  "
   ]
  },
  {
   "cell_type": "code",
   "execution_count": 4,
   "metadata": {
    "deletable": false,
    "editable": false,
    "nbgrader": {
     "checksum": "3e1306d92e40363b89ee3532daadaa49",
     "grade": false,
     "grade_id": "cell-d08c0dece273f136",
     "locked": true,
     "schema_version": 1,
     "solution": false
    }
   },
   "outputs": [
    {
     "name": "stdout",
     "output_type": "stream",
     "text": [
      "P2:\n"
     ]
    },
    {
     "data": {
      "image/png": "[encoded data removed]",
      "text/plain": [
       "<IPython.core.display.Image object>"
      ]
     },
     "execution_count": 4,
     "metadata": {},
     "output_type": "execute_result"
    }
   ],
   "source": [
    "# We create a second automaton\n",
    "p2 = Automaton(states={'p21', 'p22'},\n",
    "               init='p21',\n",
    "               events={'c', 'd', 'e'},\n",
    "               trans={Transition('p21', 'c', 'p22'),\n",
    "                      Transition('p22', 'd', 'p21'),\n",
    "                      Transition('p22', 'e', 'p21')},\n",
    "               marked={'p21', 'p22'})\n",
    "print('P2:')\n",
    "plot_automaton(p2, 'P2') # If this command is the last line in the cell, you can see the figure here!"
   ]
  },
  {
   "cell_type": "markdown",
   "metadata": {
    "deletable": false,
    "editable": false,
    "nbgrader": {
     "checksum": "caf7fda28bc36ac8a4159b2a3415f723",
     "grade": false,
     "grade_id": "cell-9d31ed14c04b490c",
     "locked": true,
     "schema_version": 1,
     "solution": false
    }
   },
   "source": [
    "- - -"
   ]
  },
  {
   "cell_type": "markdown",
   "metadata": {
    "deletable": false,
    "editable": false,
    "nbgrader": {
     "checksum": "e7b7660ae9283261811468a801441e68",
     "grade": false,
     "grade_id": "cell-777ac3adcbea1aa1",
     "locked": true,
     "schema_version": 1,
     "solution": false
    }
   },
   "source": [
    "# Task 1\n",
    "\n",
    "## Task 1.1 - Reachability\n",
    "\n",
    "Now that we know how to create automata, lets start with implementing the reachability function.\n",
    "\n",
    "As defined in chapter 6 of the lecture notes the reachability algorithm is as follows:\n",
    "\n",
    "**Algorithm 1.** Reachability($\\Sigma, \\delta, Q_0, Q_x$)\n",
    "\n",
    ">**let** $k:=0, Q_0 := Q_0 \\setminus Q_x$\n",
    ">\n",
    ">**repeat**\n",
    ">\n",
    ">>$k := k+1$\n",
    ">>\n",
    ">>$Q_k := Q_{k-1} \\cup \\{q^+ \\mid \\exists q \\in Q_{k-1} \\wedge \\exists \\sigma \\in \\Sigma \\wedge \\delta(q,\\sigma) = q^+ \\} \\setminus Q_x $\n",
    ">>\n",
    ">**until** $Q_k = Q_{k-1}$\n",
    ">\n",
    "**return** $Q_k$\n",
    "\n",
    "This is a so called fix point operation.\n",
    "\n",
    "* Describe in words how this algorithm works. You can enter your answer in the cell below. [Markdown](https://daringfireball.net/projects/markdown/syntax) and [LaTex's math environment](https://oeis.org/wiki/List_of_LaTeX_mathematical_symbols) (the \\$ \\$ environment) are supported. To edit the answer, double-click on \"YOUR ANSWER HERE\" in the cell below."
   ]
  },
  {
   "cell_type": "markdown",
   "metadata": {
    "deletable": false,
    "nbgrader": {
     "checksum": "715f628f01a407af32095ef1f30757f9",
     "grade": true,
     "grade_id": "reach_natural_language",
     "locked": false,
     "points": 1,
     "schema_version": 1,
     "solution": true
    }
   },
   "source": [
    "### Answer\n",
    "\n",
    "The reachability function is an iterative method that makes use of a Breadth-first search (BFS) algorithm to visit all the reachable states in the graph.\n",
    "\n",
    "The visited states set **Q_k** starts with the initial state of the automaton **Q_0**, unless if **Q_0** is a forbidden state, when the algorithm must return the empty set. \n",
    "\n",
    "For each iteration, the new **Q_k** will be equal to the union of the **Q_k** from the last iteration with all the states that are targeted by at least one origin belonging to the old **Q_k** (filtered by events that belong to the event set $\\Sigma$).\n",
    "\n",
    "\n",
    "The iteration stops when the visited states set **Q_k** do not change from iteration to another.\n",
    "-"
   ]
  },
  {
   "cell_type": "markdown",
   "metadata": {
    "deletable": false,
    "editable": false,
    "nbgrader": {
     "checksum": "4159a61e855a6595b51effbd91c58791",
     "grade": false,
     "grade_id": "cell-20bae39ada6e58e6",
     "locked": true,
     "schema_version": 1,
     "solution": false
    }
   },
   "source": [
    "Here are some helper functions that might help you with your implementation of the algorithm in code."
   ]
  },
  {
   "cell_type": "code",
   "execution_count": 5,
   "metadata": {
    "deletable": false,
    "editable": false,
    "nbgrader": {
     "checksum": "c41df9738455891f1bb38f71fd2ad298",
     "grade": false,
     "grade_id": "cell-7662cb2eea3fb197",
     "locked": true,
     "schema_version": 1,
     "solution": false
    }
   },
   "outputs": [],
   "source": [
    "def filter_trans_by_source(trans, states_to_keep):\n",
    "    \"\"\"Returns a new set containing all transitions where the source is in states_to_keep\"\"\"\n",
    "    return {t for t in trans if t.source in states_to_keep}\n",
    "\n",
    "def filter_trans_by_events(trans, events_to_keep):\n",
    "    \"\"\"Returns a new set containing all transitions where the event is in events_to_keep\"\"\"\n",
    "    return {t for t in trans if t.event in events_to_keep}\n",
    "\n",
    "def filter_trans_by_target(trans, states_to_keep):\n",
    "    \"\"\"Returns a new set containing all transitions where the target is in states_to_keep\"\"\"\n",
    "    return {t for t in trans if t.target in states_to_keep}\n",
    "\n",
    "def extract_elems_from_trans(trans, field):\n",
    "    \"\"\" \n",
    "    Returns a new set with just the elements in a field of all transitions. \n",
    "    E.g. field='source' for all source states \n",
    "    or field='event' or field='target'\n",
    "    \"\"\"\n",
    "    return {getattr(t, field) for t in trans}\n",
    "\n",
    "def flip_trans(trans):\n",
    "    \"\"\" Flips the direction of the transitions in the set\"\"\"\n",
    "    return {Transition(t.target, t.event, t.source) for t in trans}"
   ]
  },
  {
   "cell_type": "code",
   "execution_count": 6,
   "metadata": {
    "deletable": false,
    "nbgrader": {
     "checksum": "fcb9b0231a7023d986d1c47addbc75cf",
     "grade": false,
     "grade_id": "reach_impl",
     "locked": false,
     "schema_version": 1,
     "solution": true
    }
   },
   "outputs": [],
   "source": [
    "# Now implement the function in code\n",
    "def reach(events, trans, start_states, forbidden):\n",
    "    \"\"\"\n",
    "    Returns the forward reachable states of a transition set    \n",
    "    :param events: set of events\n",
    "    :param trans: set of transitions\n",
    "    :param start_states: set of states\n",
    "    :param forbidden: set of forbidden states\n",
    "    \"\"\"\n",
    "    Q = set()\n",
    "    Q_new = start_states - forbidden\n",
    "    while Q_new-Q:\n",
    "        Q = Q_new\n",
    "        next_trans = set(filter(lambda x: set([x.event]).issubset(events),set(filter_trans_by_source(trans,Q_new)) ))\n",
    "        Q_new = Q_new | extract_elems_from_trans(next_trans,'target') - forbidden\n",
    "    return Q_new"
   ]
  },
  {
   "cell_type": "code",
   "execution_count": 7,
   "metadata": {},
   "outputs": [],
   "source": [
    "#################################################################################################################\n",
    "#################################################################################################################\n",
    "#################################################################################################################\n",
    "# Single state\n",
    "assert reach(set(), set(),{1}, set()) == {1}\n",
    "assert reach({'a'}, {Transition(1, 'a', 1)}, {1}, set()) == {1}\n",
    "\n",
    "# Simple automata\n",
    "assert reach({'a'}, {Transition(1, 'a', 2)}, {1}, set()) == {1, 2}\n",
    "assert reach({'a'}, {Transition(2, 'a', 1)}, {1}, set()) == {1}\n",
    "assert reach({'a'}, {Transition(2, 'a', 1), Transition(1, 'a', 2)}, {1}, set()) == {1, 2}\n",
    "\n",
    "# Parallel transitions\n",
    "assert reach({'a', 'b'}, {Transition(1, 'a', 2), Transition(1, 'b', 2)}, {1}, set()) == {1, 2}\n",
    "assert reach({'a', 'b'}, {Transition(2, 'a', 1), Transition(2, 'b', 1)}, {1}, set()) == {1}\n",
    "\n",
    "# Handling of forbidden states\n",
    "assert reach({'a'}, {Transition(1, 'a', 2)}, {1}, {1}) == set()\n",
    "assert reach({'a'}, {Transition(1, 'a', 2)}, {1}, {2}) == {1}\n",
    "\n",
    "# Larger automata\n",
    "assert reach({'a'}, \n",
    "             {Transition(1, 'a', 2), Transition(2, 'a', 3), Transition(3, 'a', 1)},\n",
    "             {1},\n",
    "             set()) == {1, 2, 3}\n",
    "### BEGIN HIDDEN TESTS\n",
    "assert reach({'a'}, \n",
    "             {Transition(1, 'a', 2), Transition(2, 'a', 3), Transition(3, 'a', 1)},\n",
    "             {1},\n",
    "             {2}) == {1}, 'Error for forbidden state in 3-state automaton'\n",
    "assert reach({'a'}, \n",
    "             {Transition(1, 'a', 2), Transition(2, 'b', 3), Transition(3, 'a', 1)},\n",
    "             {1},\n",
    "             set()) == {1, 2}, 'Error for unknown event in 3-state automaton'\n",
    "assert reach({'a', 'b', 'c'}, \n",
    "             {Transition(1, 'a', 2), Transition(2, 'a', 3), \n",
    "              Transition(2, 'b', 3), Transition(4, 'b', 3),\n",
    "              Transition(3, 'a', 3), Transition(3, 'c', 1)},\n",
    "             {1},\n",
    "             set()) == {1, 2, 3}, 'Error for multiple transitions to state 3'\n",
    "assert reach({'a', 'b', 'c'}, \n",
    "             {Transition(1, 'a', 2), Transition(2, 'a', 3), \n",
    "              Transition(2, 'b', 3), Transition(4, 'b', 3),\n",
    "              Transition(3, 'a', 3), Transition(3, 'c', 1)},\n",
    "             {1},\n",
    "             {3}) == {1, 2}, 'Error for multiple transitions to forbidden state 3'\n",
    "assert reach({'a', 'b', 'c'}, \n",
    "             {Transition(1, 'a', 2), Transition(2, 'a', 1), \n",
    "              Transition(3, 'b', 4), Transition(4, 'b', 3),\n",
    "              Transition(3, 'c', 5), Transition(5, 'c', 3)},\n",
    "             {1},\n",
    "             set()) == {1, 2}, 'Error for split automaton'\n",
    "assert reach({'a', 'b', 'c'}, \n",
    "             {Transition(1, 'a', 2), Transition(2, 'a', 1), \n",
    "              Transition(3, 'b', 4), Transition(4, 'b', 3),\n",
    "              Transition(3, 'c', 5), Transition(5, 'c', 3)},\n",
    "             {3},\n",
    "             set()) == {3, 4, 5}, 'Error for split automaton'\n",
    "### END HIDDEN TESTS"
   ]
  },
  {
   "cell_type": "markdown",
   "metadata": {
    "deletable": false,
    "editable": false,
    "nbgrader": {
     "checksum": "0ed4411d3d0882b1cafb64a99d2e69d5",
     "grade": false,
     "grade_id": "cell-71d53c13a25e4833",
     "locked": true,
     "schema_version": 1,
     "solution": false
    }
   },
   "source": [
    "This below is a test cell. You can execute it to test your function with different inputs. The **assert** statements make sure that your function returns the expected results."
   ]
  },
  {
   "cell_type": "code",
   "execution_count": 8,
   "metadata": {
    "deletable": false,
    "editable": false,
    "nbgrader": {
     "checksum": "cdad23a8450e8a1dc39a41e6f59ec50f",
     "grade": true,
     "grade_id": "reach_test",
     "locked": true,
     "points": 1,
     "schema_version": 1,
     "solution": false
    }
   },
   "outputs": [],
   "source": [
    "# Single state\n",
    "assert reach(set(), set(),{1}, set()) == {1}\n",
    "assert reach({'a'}, {Transition(1, 'a', 1)}, {1}, set()) == {1}\n",
    "\n",
    "# Simple automata\n",
    "assert reach({'a'}, {Transition(1, 'a', 2)}, {1}, set()) == {1, 2}\n",
    "assert reach({'a'}, {Transition(2, 'a', 1)}, {1}, set()) == {1}\n",
    "assert reach({'a'}, {Transition(2, 'a', 1), Transition(1, 'a', 2)}, {1}, set()) == {1, 2}\n",
    "\n",
    "# Parallel transitions\n",
    "assert reach({'a', 'b'}, {Transition(1, 'a', 2), Transition(1, 'b', 2)}, {1}, set()) == {1, 2}\n",
    "assert reach({'a', 'b'}, {Transition(2, 'a', 1), Transition(2, 'b', 1)}, {1}, set()) == {1}\n",
    "\n",
    "# Handling of forbidden states\n",
    "assert reach({'a'}, {Transition(1, 'a', 2)}, {1}, {1}) == set()\n",
    "assert reach({'a'}, {Transition(1, 'a', 2)}, {1}, {2}) == {1}\n",
    "\n",
    "# Larger automata\n",
    "assert reach({'a'}, \n",
    "             {Transition(1, 'a', 2), Transition(2, 'a', 3), Transition(3, 'a', 1)},\n",
    "             {1},\n",
    "             set()) == {1, 2, 3}"
   ]
  },
  {
   "cell_type": "markdown",
   "metadata": {
    "deletable": false,
    "editable": false,
    "nbgrader": {
     "checksum": "2f9f35842967a7d68f08d1e6091b77bd",
     "grade": false,
     "grade_id": "cell-a69216b28b284548",
     "locked": true,
     "schema_version": 1,
     "solution": false
    }
   },
   "source": [
    "## Task 1.2 - Coreachability\n",
    "\n",
    "Similarly, the set of backwards reachable states is defined as:\n",
    "\n",
    "**Algorithm 2.** BackwardReachability($\\Sigma, \\delta, Q_0, Q_x$)\n",
    "\n",
    ">**let** $k:=0, Q_0 := Q_0 \\setminus Q_x$\n",
    ">\n",
    ">**repeat**\n",
    ">\n",
    ">>$k := k+1$\n",
    ">>\n",
    ">>$Q_k := Q_{k-1} \\cup \\{q \\mid \\exists \\sigma \\in \\Sigma \\wedge \\delta(q,\\sigma) \\in Q_{k-1} \\} \\setminus Q_x $\n",
    ">>\n",
    ">**until** $Q_k = Q_{k-1}$\n",
    ">\n",
    "**return** $Q_k$\n",
    "\n",
    "* Implement Algorithm 2."
   ]
  },
  {
   "cell_type": "code",
   "execution_count": 9,
   "metadata": {
    "deletable": false,
    "nbgrader": {
     "checksum": "fc3a096b43ed31b1be60412def6c08d8",
     "grade": false,
     "grade_id": "coreach_impl",
     "locked": false,
     "schema_version": 1,
     "solution": true
    }
   },
   "outputs": [],
   "source": [
    "def coreach(events, trans, start_states, forbidden):\n",
    "    \"\"\"\n",
    "    Returns the coreachable (backward reachable) states of a transition set\n",
    "    \n",
    "    :param events: set of events\n",
    "    :param trans: set of transitions\n",
    "    :param start_states: set of states\n",
    "    :param forbidden: set of forbidden states\n",
    "    \"\"\"\n",
    "    return reach(events, flip_trans(trans), start_states, forbidden)"
   ]
  },
  {
   "cell_type": "code",
   "execution_count": 10,
   "metadata": {},
   "outputs": [],
   "source": [
    "\n",
    "\n",
    "#################################################################################################################\n",
    "#################################################################################################################\n",
    "#################################################################################################################\n",
    "\n",
    "# Single state\n",
    "assert coreach(set(), set(),{1}, set()) == {1}\n",
    "assert coreach({'a'}, {Transition(1, 'a', 1)}, {1}, set()) == {1}\n",
    "\n",
    "# Simple automata\n",
    "assert coreach({'a'}, {Transition(2, 'a', 1)}, {2}, set()) == {2}\n",
    "assert coreach({'a'}, {Transition(2, 'a', 1)}, {1}, set()) == {1, 2}\n",
    "assert coreach({'a'}, {Transition(2, 'a', 1), Transition(1, 'a', 2)}, {1}, set()) == {1, 2}\n",
    "\n",
    "# Parallel transitions\n",
    "assert coreach({'a', 'b'}, {Transition(1, 'a', 2), Transition(1, 'b', 2)}, {1}, set()) == {1}\n",
    "assert coreach({'a', 'b'}, {Transition(2, 'a', 1), Transition(2, 'b', 1)}, {1}, set()) == {1, 2}\n",
    "\n",
    "# Handling of forbidden states\n",
    "assert coreach({'a'}, {Transition(1, 'a', 2)}, {1}, {1}) == set()\n",
    "assert coreach({'a'}, {Transition(2, 'a', 1)}, {1}, {2}) == {1}\n",
    "\n",
    "# Larger automata\n",
    "assert coreach({'a'}, \n",
    "               {Transition(1, 'a', 2), Transition(2, 'a', 3), Transition(3, 'a', 1)},\n",
    "               {1},\n",
    "               set()) == {1, 2, 3}\n",
    "### BEGIN HIDDEN TESTS\n",
    "assert coreach({'a'}, \n",
    "               {Transition(1, 'a', 2), Transition(2, 'a', 3), Transition(3, 'a', 1)},\n",
    "               {1},\n",
    "               {2}) == {1, 3}, 'Error for forbidden state in 3-state automaton'\n",
    "assert coreach({'a'}, \n",
    "               {Transition(1, 'a', 2), Transition(2, 'b', 3), Transition(3, 'a', 1)},\n",
    "               {1},\n",
    "               set()) == {1, 3}, 'Error for unknown event in 3-state automaton'\n",
    "assert coreach({'a', 'b', 'c'}, \n",
    "               {Transition(1, 'a', 2), Transition(2, 'a', 3), \n",
    "                Transition(2, 'b', 3), Transition(4, 'b', 3),\n",
    "                Transition(3, 'a', 3), Transition(3, 'c', 1)},\n",
    "               {1},\n",
    "               set()) == {1, 2, 3, 4}, 'Error for multiple transitions to state 3'\n",
    "assert coreach({'a', 'b', 'c'}, \n",
    "               {Transition(1, 'a', 2), Transition(2, 'a', 3), \n",
    "                Transition(2, 'b', 3), Transition(4, 'b', 3),\n",
    "                Transition(3, 'a', 3), Transition(3, 'c', 1)},\n",
    "               {1},\n",
    "               {3}) == {1}, 'Error for multiple transitions to forbidden state 3'\n",
    "assert coreach({'a', 'b', 'c'}, \n",
    "               {Transition(1, 'a', 2), Transition(2, 'a', 1), \n",
    "                Transition(3, 'b', 4), Transition(4, 'b', 3),\n",
    "                Transition(3, 'c', 5), Transition(5, 'c', 3)},\n",
    "               {1},\n",
    "               set()) == {1, 2}, 'Error for split automaton'\n",
    "assert coreach({'a', 'b', 'c'}, \n",
    "               {Transition(1, 'a', 2), Transition(2, 'a', 1), \n",
    "                Transition(3, 'b', 4), Transition(4, 'b', 3),\n",
    "                Transition(3, 'c', 5), Transition(5, 'c', 3)},\n",
    "               {3},\n",
    "               set()) == {3, 4, 5}, 'Error for split automaton'\n",
    "### END HIDDEN TESTS"
   ]
  },
  {
   "cell_type": "code",
   "execution_count": 11,
   "metadata": {
    "deletable": false,
    "editable": false,
    "nbgrader": {
     "checksum": "ea42b89a24b32fe268429b28764b09ee",
     "grade": true,
     "grade_id": "coreach_test",
     "locked": true,
     "points": 1,
     "schema_version": 1,
     "solution": false
    }
   },
   "outputs": [],
   "source": [
    "# Single state\n",
    "assert coreach(set(), set(),{1}, set()) == {1}\n",
    "assert coreach({'a'}, {Transition(1, 'a', 1)}, {1}, set()) == {1}\n",
    "\n",
    "# Simple automata\n",
    "assert coreach({'a'}, {Transition(2, 'a', 1)}, {2}, set()) == {2}\n",
    "assert coreach({'a'}, {Transition(2, 'a', 1)}, {1}, set()) == {1, 2}\n",
    "assert coreach({'a'}, {Transition(2, 'a', 1), Transition(1, 'a', 2)}, {1}, set()) == {1, 2}\n",
    "\n",
    "# Parallel transitions\n",
    "assert coreach({'a', 'b'}, {Transition(1, 'a', 2), Transition(1, 'b', 2)}, {1}, set()) == {1}\n",
    "assert coreach({'a', 'b'}, {Transition(2, 'a', 1), Transition(2, 'b', 1)}, {1}, set()) == {1, 2}\n",
    "\n",
    "# Handling of forbidden states\n",
    "assert coreach({'a'}, {Transition(1, 'a', 2)}, {1}, {1}) == set()\n",
    "assert coreach({'a'}, {Transition(2, 'a', 1)}, {1}, {2}) == {1}\n",
    "\n",
    "# Larger automata\n",
    "assert coreach({'a'}, \n",
    "               {Transition(1, 'a', 2), Transition(2, 'a', 3), Transition(3, 'a', 1)},\n",
    "               {1},\n",
    "               set()) == {1, 2, 3}"
   ]
  },
  {
   "cell_type": "markdown",
   "metadata": {
    "deletable": false,
    "editable": false,
    "nbgrader": {
     "checksum": "9fccbc2cbae117bac8da103578b217d5",
     "grade": false,
     "grade_id": "cell-f2d73c6861db02ba",
     "locked": true,
     "schema_version": 1,
     "solution": false
    }
   },
   "source": [
    "## Task 1.3 - Synchronous composition\n",
    "* Implement the synchronous composition of two automaton. Exclude all unreachble states in the result.\n",
    "\n",
    "* *Note:* The synchronization function can be implemented in different ways. We suggest to loop through all events, taking common and individual events for the two automata into account. In this event loop appropriate states are merged together according to the basic definition. A number of unreachable states will then be included.   \n",
    "* *Note:* The synchronized function shall include the complete automaton, including any marked and forbidden states of the synchronized automaton."
   ]
  },
  {
   "cell_type": "markdown",
   "metadata": {
    "deletable": false,
    "editable": false,
    "nbgrader": {
     "checksum": "e9b01ce9e620d883b4eb8dde0c6af7c4",
     "grade": false,
     "grade_id": "cell-8a945b045ba8cc42",
     "locked": true,
     "schema_version": 1,
     "solution": false
    }
   },
   "source": [
    "Here are again some helper functions that might help you with your implementation of the algorithm in code."
   ]
  },
  {
   "cell_type": "code",
   "execution_count": 12,
   "metadata": {
    "deletable": false,
    "editable": false,
    "nbgrader": {
     "checksum": "f21048ba9b7f56a3780ee978d7dff3ba",
     "grade": false,
     "grade_id": "cell-ae071b4d012abf77",
     "locked": true,
     "schema_version": 1,
     "solution": false
    }
   },
   "outputs": [],
   "source": [
    "def merge_label(label1, label2):\n",
    "    \"\"\"Creates a new label based on two labels\"\"\"\n",
    "    return '{}.{}'.format(label1, label2)\n",
    "\n",
    "def cross_product(setA, setB):\n",
    "    \"\"\"Computes the crossproduct of two sets\"\"\"\n",
    "    return {merge_label(a, b) for b in setB for a in setA}"
   ]
  },
  {
   "cell_type": "code",
   "execution_count": 13,
   "metadata": {
    "deletable": false,
    "nbgrader": {
     "checksum": "a0ed587fb41e7ab5cf747281a0e2307c",
     "grade": false,
     "grade_id": "synch_impl",
     "locked": false,
     "schema_version": 1,
     "solution": true
    }
   },
   "outputs": [],
   "source": [
    "def synch(aut1_o, aut2_o):\n",
    "    from copy import deepcopy\n",
    "    \"\"\"\n",
    "    Returns the synchronous composition of two automata.\n",
    "    \n",
    "    :param aut1: Automaton\n",
    "    :param aut2: Automaton\n",
    "    \"\"\"\n",
    "    def trim_unreach(aut12):\n",
    "        aut12.states = reach(aut12.events,aut12.trans,{aut12.init},set())\n",
    "        aut12.forbidden &= aut12.states\n",
    "        aut12.marked &= aut12.states\n",
    "        aut12.trans = set(filter(lambda x: set([x.source,x.target]).issubset(aut12.states), aut12.trans))\n",
    "        return aut12\n",
    "    \n",
    "    [aut1, aut2] = [deepcopy(aut1_o), deepcopy(aut2_o)]\n",
    "    events12 = aut1.events | aut2.events #extract_elems_from_trans(aut1.trans,'event') | extract_elems_from_trans(aut2.trans,'event')\n",
    "    trans12 = set()\n",
    "    for ev in events12:\n",
    "        aut1.trans |= {Transition(st1, ev, st1) for st1 in aut1.states if ev not in aut1.events}\n",
    "        aut2.trans |= {Transition(st1, ev, st1) for st1 in aut2.states if ev not in aut2.events}\n",
    "        for tr1 in filter_trans_by_events( aut1.trans, {ev} ):\n",
    "            for tr2 in filter_trans_by_events( aut2.trans, {ev} ):\n",
    "                origin = merge_label( tr1.source, tr2.source )\n",
    "                target = merge_label( tr1.target, tr2.target )\n",
    "                trans12.add( Transition( origin, ev, target ) )\n",
    " \n",
    "    init12      = merge_label(aut1.init, aut2.init)\n",
    "    states12    = extract_elems_from_trans(trans12,'source') | extract_elems_from_trans(trans12,'target') | {init12}\n",
    "    forbidden12 = cross_product(aut1.forbidden, aut2.states) | cross_product(aut1.states, aut2.forbidden) & states12\n",
    "    marked12    = cross_product( aut1.marked if aut1.marked else aut1.states, aut2.marked if aut2.marked else aut2.states) & states12    \n",
    "    return trim_unreach(Automaton( states=states12, init=init12, events=events12, trans=trans12, forbidden=forbidden12, marked=marked12 ))"
   ]
  },
  {
   "cell_type": "code",
   "execution_count": 14,
   "metadata": {},
   "outputs": [],
   "source": [
    "###########################################################################################################################\n",
    "###########################################################################################################################\n",
    "###########################################################################################################################\n",
    "\n",
    "# Two 1-state automata\n",
    "a1 = Automaton(states={1},\n",
    "               init=1,\n",
    "               events=set(),\n",
    "               trans=set())\n",
    "a2 = Automaton(states={2},\n",
    "               init=2,\n",
    "               events=set(),\n",
    "               trans=set())\n",
    "a1a2 = synch(a1, a2)\n",
    "assert a1a2.states == {'1.2'} # TC - 1.1\n",
    "assert a1a2.init == '1.2' # TC - 1.2\n",
    "assert a1a2.events == set() # TC - 1.3\n",
    "assert a1a2.trans == set() # TC - 1.4\n",
    "\n",
    "a1 = Automaton(states={1},\n",
    "               init=1,\n",
    "               events=set(),\n",
    "               trans=set(),\n",
    "               marked={1})\n",
    "a2 = Automaton(states={2},\n",
    "               init=2,\n",
    "               events=set(),\n",
    "               trans=set())\n",
    "a1a2 = synch(a1, a2)\n",
    "assert a1a2.states == {'1.2'} # TC - 2.1\n",
    "assert a1a2.init == '1.2' # TC - 2.2\n",
    "assert a1a2.events == set() # TC - 2.3\n",
    "assert a1a2.trans == set() # TC - 2.4\n",
    "assert a1a2.marked == {'1.2'} # TC - 2.5\n",
    "\n",
    "a1 = Automaton(states={1},\n",
    "               init=1,\n",
    "               events=set(),\n",
    "               trans=set(),\n",
    "               forbidden={1})\n",
    "a2 = Automaton(states={2},\n",
    "               init=2,\n",
    "               events=set(),\n",
    "               trans=set())\n",
    "a1a2 = synch(a1, a2)\n",
    "assert a1a2.states == {'1.2'} # TC - 3.1\n",
    "assert a1a2.init == '1.2' # TC - 3.2\n",
    "assert a1a2.events == set() # TC - 3.3\n",
    "assert a1a2.trans == set() # TC - 3.4\n",
    "assert a1a2.forbidden == {'1.2'} # TC - 3.5\n",
    "\n",
    "# 2-state automaton and 1-state automaton\n",
    "a1 = Automaton(states={1, 2},\n",
    "               init=1,\n",
    "               events={'a'},\n",
    "               trans={Transition(1, 'a', 2)},\n",
    "               marked={2})\n",
    "a2 = Automaton(states={3},\n",
    "               init=3,\n",
    "               events=set(),\n",
    "               trans=set())\n",
    "a1a2 = synch(a1, a2)\n",
    "assert a1a2.states == {'1.3', '2.3'} # TC - 4.1\n",
    "assert a1a2.init == '1.3' # TC - 4.2\n",
    "assert a1a2.events == {'a'} # TC - 4.3\n",
    "assert a1a2.trans == {Transition('1.3', 'a', '2.3')} # TC - 4.4\n",
    "assert a1a2.marked == {'2.3'} # TC - 4.5\n",
    "\n",
    "a1 = Automaton(states={1, 2},\n",
    "               init=1,\n",
    "               events={'a'},\n",
    "               trans={Transition(1, 'a', 2)},\n",
    "               forbidden={2})\n",
    "a2 = Automaton(states={3},\n",
    "               init=3,\n",
    "               events=set(),\n",
    "               trans=set())\n",
    "a1a2 = synch(a1, a2)\n",
    "assert a1a2.states == {'1.3', '2.3'} # TC - 5.1\n",
    "assert a1a2.init == '1.3' # TC - 5.2\n",
    "assert a1a2.events == {'a'} # TC - 5.3\n",
    "assert a1a2.trans == {Transition('1.3', 'a', '2.3')} # TC - 5.5\n",
    "assert a1a2.forbidden == {'2.3'} # TC - 5.6\n",
    "\n",
    "# Two 2-state automata\n",
    "a1 = Automaton(states={1, 2},\n",
    "               init=1,\n",
    "               events={'a'},\n",
    "               trans={Transition(1, 'a', 2)},\n",
    "               marked={2})\n",
    "a2 = Automaton(states={3, 4},\n",
    "               init=3,\n",
    "               events={'b'},\n",
    "               trans={Transition(3, 'b', 4)})\n",
    "a1a2 = synch(a1, a2)\n",
    "assert a1a2.states == {'1.3', '2.3', '1.4', '2.4'} # TC - 6.1\n",
    "assert a1a2.init == '1.3' # TC - 6.2\n",
    "assert a1a2.events == {'a', 'b'} # TC - 6.3\n",
    "assert a1a2.trans == {Transition('1.3', 'a', '2.3'), Transition('1.4', 'a', '2.4'), Transition('1.3', 'b', '1.4'), Transition('2.3', 'b', '2.4')} # TC -6.4\n",
    "assert a1a2.marked == {'2.3', '2.4'} # TC - 6.5\n",
    "\n",
    "a1 = Automaton(states={1, 2},\n",
    "               init=1,\n",
    "               events={'a'},\n",
    "               trans={Transition(1, 'a', 2)},\n",
    "               marked={2})\n",
    "a2 = Automaton(states={3, 4},\n",
    "               init=3,\n",
    "               events={'a'},\n",
    "               trans={Transition(3, 'a', 4)})\n",
    "a1a2 = synch(a1, a2)\n",
    "assert a1a2.states == {'1.3', '2.4'} # TC - 7.1\n",
    "assert a1a2.init == '1.3' # TC - 7.2\n",
    "assert a1a2.events == {'a'} # TC - 7.3\n",
    "assert a1a2.trans == {Transition('1.3', 'a', '2.4')} # TC - 7.4\n",
    "assert a1a2.marked == {'2.4'} # TC - 7.5\n",
    "\n",
    "a1 = Automaton(states={1, 2},\n",
    "               init=1,\n",
    "               events={'a'},\n",
    "               trans={Transition(1, 'a', 2)},\n",
    "               forbidden={2})\n",
    "a2 = Automaton(states={3, 4},\n",
    "               init=3,\n",
    "               events={'b'},\n",
    "               trans={Transition(3, 'b', 4)},\n",
    "               forbidden={4})\n",
    "a1a2 = synch(a1, a2)\n",
    "assert a1a2.states == {'1.3', '2.3', '1.4', '2.4'} # TC - 8.1\n",
    "assert a1a2.init == '1.3' # TC - 8.2\n",
    "assert a1a2.events == {'a', 'b'} # TC - 8.3\n",
    "assert a1a2.trans == {Transition('1.3', 'a', '2.3'), Transition('1.4', 'a', '2.4'), Transition('1.3', 'b', '1.4'), Transition('2.3', 'b', '2.4')} # TC - 8.4\n",
    "assert a1a2.forbidden == {'2.3', '1.4', '2.4'} # TC - 8.5\n",
    "\n",
    "a1 = Automaton(states={1, 2},\n",
    "               init=1,\n",
    "               events={'a', 'b'},\n",
    "               trans={Transition(1, 'a', 2)},\n",
    "               marked={2})\n",
    "a2 = Automaton(states={3, 4},\n",
    "               init=3,\n",
    "               events={'b'},\n",
    "               trans={Transition(3, 'b', 4)})\n",
    "a1a2 = synch(a1, a2)\n",
    "assert a1a2.states == {'1.3', '2.3'} # TC - 9.1\n",
    "assert a1a2.init == '1.3' # TC - 9.2\n",
    "assert a1a2.events == {'a', 'b'} # TC - 9.3\n",
    "assert a1a2.trans == {Transition('1.3', 'a', '2.3')} # TC - 9.4\n",
    "assert a1a2.marked == {'2.3'} # TC - 9.5\n",
    "\n",
    "### BEGIN HIDDEN TESTS\n",
    "# Different symbols\n",
    "b1 = Automaton(states={'a', 'b'},\n",
    "               init='a',\n",
    "               events={1, 2},\n",
    "               trans={Transition('a', 1, 'b')},\n",
    "               marked={'b'})\n",
    "b2 = Automaton(states={'c', 'd'},\n",
    "               init='c',\n",
    "               events={2},\n",
    "               trans={Transition('c', 2, 'd')})\n",
    "b1b2 = synch(b1, b2)\n",
    "assert b1b2.states == {'a.c', 'b.c'}, 'Different symbols should not cause error!'\n",
    "assert b1b2.init == 'a.c', 'Different symbols should not cause error!'\n",
    "assert b1b2.events == {1, 2}, 'Different symbols should not cause error!'\n",
    "assert b1b2.trans == {Transition('a.c', 1, 'b.c')}, 'Different symbols should not cause error!'\n",
    "assert b1b2.marked == {'b.c'}, 'Different symbols should not cause error!'\n",
    "\n",
    "# Bigger automata\n",
    "b1 = Automaton(states={'a', 'b'},\n",
    "               init='a',\n",
    "               events={1},\n",
    "               trans={Transition('a', 1, 'b')},\n",
    "               marked={'b'})\n",
    "b2 = Automaton(states={'c', 'd', 'e'},\n",
    "               init='c',\n",
    "               events={1, 2},\n",
    "               trans={Transition('c', 1, 'd'), Transition('d', 2, 'e'), Transition('e', 1, 'c')})\n",
    "b1b2 = synch(b1, b2)\n",
    "assert b1b2.states == {'a.c', 'b.e', 'b.d'}, 'Shared events'\n",
    "assert b1b2.init == 'a.c', 'Shared events'\n",
    "assert b1b2.events == {1, 2}, 'Shared events'\n",
    "assert b1b2.trans == {Transition('a.c', 1, 'b.d'), Transition('b.d', 2, 'b.e')}, 'Shared events'\n",
    "assert b1b2.marked == {'b.e', 'b.d'}, 'Shared events'\n",
    "\n",
    "b1 = Automaton(states={'a', 'b'},\n",
    "               init='a',\n",
    "               events={1},\n",
    "               trans={Transition('a', 1, 'b'), Transition('b', 1, 'a')},\n",
    "               marked={'b'})\n",
    "b2 = Automaton(states={'c', 'd', 'e'},\n",
    "               init='c',\n",
    "               events={1, 2},\n",
    "               trans={Transition('c', 1, 'd'), Transition('d', 2, 'e'), Transition('e', 1, 'c')})\n",
    "b1b2 = synch(b1, b2)\n",
    "assert b1b2.states == {'a.c', 'b.e', 'b.d'}, 'Loops'\n",
    "assert b1b2.init == 'a.c', 'Loops'\n",
    "assert b1b2.events == {1, 2}, 'Loops'\n",
    "assert b1b2.trans == {Transition('a.c', 1, 'b.d'), Transition('b.d', 2, 'b.e'), Transition('b.e', 1, 'a.c')}, 'Loops'\n",
    "assert b1b2.marked == {'b.e', 'b.d'}, 'Loops'\n",
    "### END HIDDEN TESTS"
   ]
  },
  {
   "cell_type": "code",
   "execution_count": 15,
   "metadata": {
    "deletable": false,
    "editable": false,
    "nbgrader": {
     "checksum": "b186d806d7982774d86d1a6d9c444c3f",
     "grade": true,
     "grade_id": "synch_test",
     "locked": true,
     "points": 1,
     "schema_version": 1,
     "solution": false
    }
   },
   "outputs": [],
   "source": [
    "# Two 1-state automata\n",
    "a1 = Automaton(states={1},\n",
    "               init=1,\n",
    "               events=set(),\n",
    "               trans=set())\n",
    "a2 = Automaton(states={2},\n",
    "               init=2,\n",
    "               events=set(),\n",
    "               trans=set())\n",
    "a1a2 = synch(a1, a2)\n",
    "assert a1a2.states == {'1.2'} # TC - 1.1\n",
    "assert a1a2.init == '1.2' # TC - 1.2\n",
    "assert a1a2.events == set() # TC - 1.3\n",
    "assert a1a2.trans == set() # TC - 1.4\n",
    "\n",
    "a1 = Automaton(states={1},\n",
    "               init=1,\n",
    "               events=set(),\n",
    "               trans=set(),\n",
    "               marked={1})\n",
    "a2 = Automaton(states={2},\n",
    "               init=2,\n",
    "               events=set(),\n",
    "               trans=set())\n",
    "a1a2 = synch(a1, a2)\n",
    "assert a1a2.states == {'1.2'} # TC - 2.1\n",
    "assert a1a2.init == '1.2' # TC - 2.2\n",
    "assert a1a2.events == set() # TC - 2.3\n",
    "assert a1a2.trans == set() # TC - 2.4\n",
    "assert a1a2.marked == {'1.2'} # TC - 2.5\n",
    "\n",
    "a1 = Automaton(states={1},\n",
    "               init=1,\n",
    "               events=set(),\n",
    "               trans=set(),\n",
    "               forbidden={1})\n",
    "a2 = Automaton(states={2},\n",
    "               init=2,\n",
    "               events=set(),\n",
    "               trans=set())\n",
    "a1a2 = synch(a1, a2)\n",
    "assert a1a2.states == {'1.2'} # TC - 3.1\n",
    "assert a1a2.init == '1.2' # TC - 3.2\n",
    "assert a1a2.events == set() # TC - 3.3\n",
    "assert a1a2.trans == set() # TC - 3.4\n",
    "assert a1a2.forbidden == {'1.2'} # TC - 3.5\n",
    "\n",
    "# 2-state automaton and 1-state automaton\n",
    "a1 = Automaton(states={1, 2},\n",
    "               init=1,\n",
    "               events={'a'},\n",
    "               trans={Transition(1, 'a', 2)},\n",
    "               marked={2})\n",
    "a2 = Automaton(states={3},\n",
    "               init=3,\n",
    "               events=set(),\n",
    "               trans=set())\n",
    "a1a2 = synch(a1, a2)\n",
    "assert a1a2.states == {'1.3', '2.3'} # TC - 4.1\n",
    "assert a1a2.init == '1.3' # TC - 4.2\n",
    "assert a1a2.events == {'a'} # TC - 4.3\n",
    "assert a1a2.trans == {Transition('1.3', 'a', '2.3')} # TC - 4.4\n",
    "assert a1a2.marked == {'2.3'} # TC - 4.5\n",
    "\n",
    "a1 = Automaton(states={1, 2},\n",
    "               init=1,\n",
    "               events={'a'},\n",
    "               trans={Transition(1, 'a', 2)},\n",
    "               forbidden={2})\n",
    "a2 = Automaton(states={3},\n",
    "               init=3,\n",
    "               events=set(),\n",
    "               trans=set())\n",
    "a1a2 = synch(a1, a2)\n",
    "assert a1a2.states == {'1.3', '2.3'} # TC - 5.1\n",
    "assert a1a2.init == '1.3' # TC - 5.2\n",
    "assert a1a2.events == {'a'} # TC - 5.3\n",
    "assert a1a2.trans == {Transition('1.3', 'a', '2.3')} # TC - 5.5\n",
    "assert a1a2.forbidden == {'2.3'} # TC - 5.6\n",
    "\n",
    "# Two 2-state automata\n",
    "a1 = Automaton(states={1, 2},\n",
    "               init=1,\n",
    "               events={'a'},\n",
    "               trans={Transition(1, 'a', 2)},\n",
    "               marked={2})\n",
    "a2 = Automaton(states={3, 4},\n",
    "               init=3,\n",
    "               events={'b'},\n",
    "               trans={Transition(3, 'b', 4)})\n",
    "a1a2 = synch(a1, a2)\n",
    "assert a1a2.states == {'1.3', '2.3', '1.4', '2.4'} # TC - 6.1\n",
    "assert a1a2.init == '1.3' # TC - 6.2\n",
    "assert a1a2.events == {'a', 'b'} # TC - 6.3\n",
    "assert a1a2.trans == {Transition('1.3', 'a', '2.3'), Transition('1.4', 'a', '2.4'), Transition('1.3', 'b', '1.4'), Transition('2.3', 'b', '2.4')} # TC -6.4\n",
    "assert a1a2.marked == {'2.3', '2.4'} # TC - 6.5\n",
    "\n",
    "a1 = Automaton(states={1, 2},\n",
    "               init=1,\n",
    "               events={'a'},\n",
    "               trans={Transition(1, 'a', 2)},\n",
    "               marked={2})\n",
    "a2 = Automaton(states={3, 4},\n",
    "               init=3,\n",
    "               events={'a'},\n",
    "               trans={Transition(3, 'a', 4)})\n",
    "a1a2 = synch(a1, a2)\n",
    "assert a1a2.states == {'1.3', '2.4'} # TC - 7.1\n",
    "assert a1a2.init == '1.3' # TC - 7.2\n",
    "assert a1a2.events == {'a'} # TC - 7.3\n",
    "assert a1a2.trans == {Transition('1.3', 'a', '2.4')} # TC - 7.4\n",
    "assert a1a2.marked == {'2.4'} # TC - 7.5\n",
    "\n",
    "a1 = Automaton(states={1, 2},\n",
    "               init=1,\n",
    "               events={'a'},\n",
    "               trans={Transition(1, 'a', 2)},\n",
    "               forbidden={2})\n",
    "a2 = Automaton(states={3, 4},\n",
    "               init=3,\n",
    "               events={'b'},\n",
    "               trans={Transition(3, 'b', 4)},\n",
    "               forbidden={4})\n",
    "a1a2 = synch(a1, a2)\n",
    "assert a1a2.states == {'1.3', '2.3', '1.4', '2.4'} # TC - 8.1\n",
    "assert a1a2.init == '1.3' # TC - 8.2\n",
    "assert a1a2.events == {'a', 'b'} # TC - 8.3\n",
    "assert a1a2.trans == {Transition('1.3', 'a', '2.3'), Transition('1.4', 'a', '2.4'), Transition('1.3', 'b', '1.4'), Transition('2.3', 'b', '2.4')} # TC - 8.4\n",
    "assert a1a2.forbidden == {'2.3', '1.4', '2.4'} # TC - 8.5\n",
    "\n",
    "a1 = Automaton(states={1, 2},\n",
    "               init=1,\n",
    "               events={'a', 'b'},\n",
    "               trans={Transition(1, 'a', 2)},\n",
    "               marked={2})\n",
    "a2 = Automaton(states={3, 4},\n",
    "               init=3,\n",
    "               events={'b'},\n",
    "               trans={Transition(3, 'b', 4)})\n",
    "a1a2 = synch(a1, a2)\n",
    "assert a1a2.states == {'1.3', '2.3'} # TC - 9.1\n",
    "assert a1a2.init == '1.3' # TC - 9.2\n",
    "assert a1a2.events == {'a', 'b'} # TC - 9.3\n",
    "assert a1a2.trans == {Transition('1.3', 'a', '2.3')} # TC - 9.4\n",
    "assert a1a2.marked == {'2.3'} # TC - 9.5\n"
   ]
  },
  {
   "cell_type": "markdown",
   "metadata": {
    "deletable": false,
    "editable": false,
    "nbgrader": {
     "checksum": "3742429ab629f8e2eb6b1aac806a6587",
     "grade": false,
     "grade_id": "cell-6b92e50c737f81e3",
     "locked": true,
     "schema_version": 1,
     "solution": false
    }
   },
   "source": [
    "- - -"
   ]
  },
  {
   "cell_type": "markdown",
   "metadata": {
    "deletable": false,
    "editable": false,
    "nbgrader": {
     "checksum": "a804fd8207997111b5e4b45e5327ec61",
     "grade": false,
     "grade_id": "cell-05e9827dafa4752c",
     "locked": true,
     "schema_version": 1,
     "solution": false
    }
   },
   "source": [
    "# Task 2\n",
    "\n",
    "Consider the following two plant models given by the formal languages\n",
    "\n",
    "<center>\n",
    "    $L(P_1) = \\overline{(ab)^*} \\\\\n",
    "    L(P_2) = \\overline{(c(d+e))^*}$\n",
    "\n",
    "and the marked specification languages \n",
    "\n",
    "<center>\n",
    "    $L(Sp_1) = (bc)^* \\\\\n",
    "    L(Sp_2) = (cd)^*$\n",
    "    \n",
    "and the synchronised system\n",
    "\n",
    "<center>\n",
    "    $S = P_1 \\parallel P_2 \\parallel Sp_1 \\parallel Sp_2$\n",
    "    \n",
    "The plant models are already defined as automaton ***p1*** and ***p2*** above."
   ]
  },
  {
   "cell_type": "markdown",
   "metadata": {
    "deletable": false,
    "editable": false,
    "nbgrader": {
     "checksum": "1450a921a0f7853dd27588f9877dc8d3",
     "grade": false,
     "grade_id": "cell-979f0212b4557215",
     "locked": true,
     "schema_version": 1,
     "solution": false
    }
   },
   "source": [
    "## Task 2.1 - Petri Net\n",
    "\n",
    "* Formulate a Petri net for the synchronized sytem *S*  \n",
    "* and generate the corresponding reachability graph.\n",
    "* *Note:* It might be easier to first draw those with a pen on paper and then transfer it into the notebook."
   ]
  },
  {
   "cell_type": "code",
   "execution_count": 16,
   "metadata": {
    "deletable": false,
    "editable": false,
    "nbgrader": {
     "checksum": "590c977f07b7717689dc8b106a9f91d6",
     "grade": false,
     "grade_id": "cell-838094dc99422e39",
     "locked": true,
     "schema_version": 1,
     "solution": false
    }
   },
   "outputs": [
    {
     "data": {
      "image/png": "[encoded data removed]",
      "text/plain": [
       "<IPython.core.display.Image object>"
      ]
     },
     "execution_count": 16,
     "metadata": {},
     "output_type": "execute_result"
    }
   ],
   "source": [
    "from util import plot_petrinet\n",
    "\n",
    "PetriNet = namedtuple(typename='PetriNet', field_names=['places', 'transitions', 'arcs'])\n",
    "Place = namedtuple('Place', ['label', 'marking'])\n",
    "Arc = namedtuple('Arc', ['source', 'target', 'weight'])\n",
    "\n",
    "# You can use the ploting function to plot your petri net for S\n",
    "example = PetriNet(places={Place('p1', 1), Place('p2', 0)}, \n",
    "                   transitions={'t1'}, \n",
    "                   arcs={Arc('p1', 't1', 1), Arc('t1', 'p2', 1)})\n",
    "plot_petrinet(example, 'example')"
   ]
  },
  {
   "cell_type": "code",
   "execution_count": 17,
   "metadata": {
    "deletable": false,
    "nbgrader": {
     "checksum": "5dcdd46ccb0558a41ce015ffff7330e0",
     "grade": false,
     "grade_id": "petri_net_impl",
     "locked": false,
     "schema_version": 1,
     "solution": true
    }
   },
   "outputs": [
    {
     "data": {
      "image/png": "[encoded data removed]",
      "text/plain": [
       "<IPython.core.display.Image object>"
      ]
     },
     "execution_count": 17,
     "metadata": {},
     "output_type": "execute_result"
    }
   ],
   "source": [
    "def make_synchronized_petri_net_S():\n",
    "    \"\"\"\n",
    "    A little helper function to create the Petri net of S.\n",
    "    \n",
    "    You can just hard code the elements of the net just like in the example above.\n",
    "    We will call this function later in the tests.\n",
    "    \"\"\"\n",
    "    result = PetriNet(places={Place('P1_1', 1), Place('P1_2', 0),\n",
    "                              Place('P2_1', 1), Place('P2_2', 0),\n",
    "                              Place('SP1_1', 1), Place('SP1_2', 0),\n",
    "                              Place('SP2_1', 1), Place('SP2_2', 0)}, \n",
    "                       transitions={'a', 'b', 'c', 'd', 'e'}, \n",
    "                       arcs={Arc('P1_1', 'a', 1), Arc('a', 'P1_2', 1), Arc('P1_2', 'b', 1), Arc('b', 'P1_1', 1),\n",
    "                             Arc('P2_1', 'c', 1), Arc('c', 'P2_2', 1), Arc('P2_2', 'e', 1), Arc('e', 'P2_1', 1), Arc('P2_2', 'd', 1), Arc('d', 'P2_1', 1),\n",
    "                             Arc('SP1_1', 'b', 1), Arc('b', 'SP1_2', 1), Arc('SP1_2', 'c', 1), Arc('c', 'SP1_1', 1),\n",
    "                             Arc('SP2_1', 'c', 1), Arc('c', 'SP2_2', 1), Arc('SP2_2', 'd', 1), Arc('d', 'SP2_1', 1)})\n",
    "    return result\n",
    "\n",
    "S = make_synchronized_petri_net_S()\n",
    "plot_petrinet(S, 'S')"
   ]
  },
  {
   "cell_type": "code",
   "execution_count": 18,
   "metadata": {},
   "outputs": [],
   "source": [
    "##################################################################################################################\n",
    "##################################################################################################################\n",
    "##################################################################################################################\n",
    "\n",
    "S = make_synchronized_petri_net_S()\n",
    "assert isinstance(S, PetriNet)\n",
    "assert isinstance(S.places.pop(), Place)\n",
    "assert isinstance(S.arcs.pop(), Arc)\n",
    "\n",
    "### BEGIN HIDDEN TESTS\n",
    "S = make_synchronized_petri_net_S()\n",
    "assert len(S.places) == 8\n",
    "assert len(S.transitions) == 5\n",
    "assert len(S.arcs) == 18\n",
    "### END HIDDEN TESTS"
   ]
  },
  {
   "cell_type": "code",
   "execution_count": 19,
   "metadata": {
    "deletable": false,
    "editable": false,
    "nbgrader": {
     "checksum": "73fbbec8853bcfc3fc27d37623e6e47d",
     "grade": true,
     "grade_id": "petri_net_test",
     "locked": true,
     "points": 0,
     "schema_version": 1,
     "solution": false
    }
   },
   "outputs": [],
   "source": [
    "S = make_synchronized_petri_net_S()\n",
    "assert isinstance(S, PetriNet)\n",
    "assert isinstance(S.places.pop(), Place)\n",
    "assert isinstance(S.arcs.pop(), Arc)\n"
   ]
  },
  {
   "cell_type": "markdown",
   "metadata": {
    "deletable": false,
    "editable": false,
    "nbgrader": {
     "checksum": "c76c16a20c089c44eb1f6ebd558ea4e9",
     "grade": false,
     "grade_id": "cell-cba3a91dfeb4015e",
     "locked": true,
     "schema_version": 1,
     "solution": false
    }
   },
   "source": [
    "Similarly, we create the reachability graph."
   ]
  },
  {
   "cell_type": "code",
   "execution_count": 20,
   "metadata": {
    "deletable": false,
    "editable": false,
    "nbgrader": {
     "checksum": "6d7f867b8a60867143459c3e229527a6",
     "grade": false,
     "grade_id": "cell-2d51f3c9063698a5",
     "locked": true,
     "schema_version": 1,
     "solution": false
    }
   },
   "outputs": [
    {
     "data": {
      "image/png": "[encoded data removed]",
      "text/plain": [
       "<IPython.core.display.Image object>"
      ]
     },
     "execution_count": 20,
     "metadata": {},
     "output_type": "execute_result"
    }
   ],
   "source": [
    "from util import plot_digraph\n",
    "\n",
    "DiGraph = namedtuple(typename='DiGraph', field_names=['nodes', 'init', 'edges'])\n",
    "Edge = namedtuple('Edge', ['source', 'target', 'label'])\n",
    "\n",
    "# You can use the ploting function to plot your reachability graph for S\n",
    "example = DiGraph(nodes={1, 2},\n",
    "                  init=1,\n",
    "                  edges={Edge(1, 2, 'a')})\n",
    "plot_digraph(example, 'example')"
   ]
  },
  {
   "cell_type": "code",
   "execution_count": 21,
   "metadata": {
    "deletable": false,
    "nbgrader": {
     "checksum": "43f4ed4832b34afe71e2ff439397b588",
     "grade": false,
     "grade_id": "reach_graph_impl",
     "locked": false,
     "schema_version": 1,
     "solution": true
    }
   },
   "outputs": [
    {
     "data": {
      "image/png": "[encoded data removed]",
      "text/plain": [
       "<IPython.core.display.Image object>"
      ]
     },
     "execution_count": 21,
     "metadata": {},
     "output_type": "execute_result"
    }
   ],
   "source": [
    "def make_reachability_graph():\n",
    "    \"\"\"\n",
    "    A little helper function to create the reachability graph of S.\n",
    "    \n",
    "    You can just hard code the elements of the graph just like in the example above.\n",
    "    We will call this function later in the tests.\n",
    "    \"\"\"\n",
    "    from functools import reduce\n",
    "    import numpy as np\n",
    "\n",
    "    Am = np.matrix([[1, 0, 0, 0, 0],\n",
    "                    [0, 1, 0, 0, 0],\n",
    "                    [0, 0, 1, 0, 0],\n",
    "                    [0, 0, 0, 1, 1],\n",
    "                    [0, 1, 0, 0, 0],\n",
    "                    [0, 0, 1, 0, 0],\n",
    "                    [0, 0, 1, 0, 0],\n",
    "                    [0, 0, 0, 1, 0]])\n",
    "    Ap = np.matrix([[0, 1, 0, 0, 0],\n",
    "                    [1, 0, 0, 0, 0],\n",
    "                    [0, 0, 0, 1, 1],\n",
    "                    [0, 0, 1, 0, 0],\n",
    "                    [0, 0, 1, 0, 0],\n",
    "                    [0, 1, 0, 0, 0],\n",
    "                    [0, 0, 0, 1, 0],\n",
    "                    [0, 0, 1, 0, 0]])\n",
    "    m = np.matrix([[1,0,1,0,1,0,1,0]]).T\n",
    "\n",
    "    def m2t(m): return tuple(m.T.tolist()[0])\n",
    "    def t2m(t): return np.matrix(t).T\n",
    "\n",
    "    def reach_graph(Ap, Am, m, diGraph):\n",
    "        next_edge = [(m - Am[:,i]).min()>=0 for i in range( Am.shape[1] )]\n",
    "        next_edge_set = [i for i,x in enumerate(next_edge) if x]\n",
    "        next_nodes = [m - Am[:,i] + Ap[:,i]  for i,x in enumerate(next_edge) if x]  \n",
    "        next_node_set = set([m2t(mk) for mk in next_nodes])\n",
    "\n",
    "        new_diGraph = DiGraph(nodes= diGraph.nodes | next_node_set,\n",
    "                              init=  diGraph.init, \n",
    "                              edges= diGraph.edges | {Edge(m2t(m), m2t(target), next_edge_set[i]) for i,target in enumerate(next_nodes)})\n",
    "\n",
    "        dlist = [reach_graph(Ap, Am, t2m(nn), new_diGraph) for nn in list(next_node_set-diGraph.nodes)]\n",
    "\n",
    "        new_nodes = new_diGraph.nodes | reduce(lambda x,y:x|y, [x.nodes for x in dlist], set())\n",
    "        new_edges = new_diGraph.edges | reduce(lambda x,y:x|y, [x.edges for x in dlist], set())\n",
    "        return DiGraph(nodes=new_nodes, init=diGraph.init, edges=new_edges)\n",
    "\n",
    "    diGraph = DiGraph(nodes=set([tuple(m.T.tolist()[0])]), init=tuple(m.T.tolist()[0]), edges=set())\n",
    "    diGraph = reach_graph(Ap, Am, m, diGraph)\n",
    "    \n",
    "    # Change state and event FROM NUMBERS to LETTERS. Then return\n",
    "    chgNode = lambda tupl: reduce(lambda s1,s2: str(s1)+'.'+str(s2), [['p11','p12','p21','p22','sp11','sp12','sp21','sp22'][i] for i,n in enumerate(tupl) if n])\n",
    "    return DiGraph(nodes= set(map(lambda x: chgNode(x), diGraph.nodes)),\n",
    "                   init = chgNode(diGraph.init),\n",
    "                   edges= set(map(lambda x: Edge(chgNode(x[0]),chgNode(x[1]),'abcde'[x[2]]), diGraph.edges)) )\n",
    "\n",
    "plot_digraph(make_reachability_graph(), 'S_reach_graph')"
   ]
  },
  {
   "cell_type": "code",
   "execution_count": 22,
   "metadata": {
    "deletable": false,
    "editable": false,
    "nbgrader": {
     "checksum": "1de26f2de5daf3049263c55cc78da554",
     "grade": true,
     "grade_id": "reach_graph_test",
     "locked": true,
     "points": 1,
     "schema_version": 1,
     "solution": false
    }
   },
   "outputs": [],
   "source": [
    "G = make_reachability_graph()\n",
    "assert isinstance(G, DiGraph)\n",
    "assert isinstance(G.nodes, set)\n",
    "assert isinstance(G.edges.pop(), Edge)\n"
   ]
  },
  {
   "cell_type": "code",
   "execution_count": 23,
   "metadata": {},
   "outputs": [],
   "source": [
    "#####################################################################################################################\n",
    "#####################################################################################################################\n",
    "#####################################################################################################################\n",
    "\n",
    "G = make_reachability_graph()\n",
    "assert isinstance(G, DiGraph)\n",
    "assert isinstance(G.nodes, set)\n",
    "assert isinstance(G.edges.pop(), Edge)\n",
    "\n",
    "### BEGIN HIDDEN TESTS\n",
    "G = make_reachability_graph()\n",
    "assert len(G.nodes) == 12\n",
    "assert len(G.edges) == 19\n",
    "### END HIDDEN TESTS"
   ]
  },
  {
   "cell_type": "markdown",
   "metadata": {
    "deletable": false,
    "editable": false,
    "nbgrader": {
     "checksum": "497a2775132639e876634ec64e64aab6",
     "grade": false,
     "grade_id": "cell-a5dca9604793d0ce",
     "locked": true,
     "schema_version": 1,
     "solution": false
    }
   },
   "source": [
    "## Task 2.2 - Synchronized Automaton\n",
    "\n",
    "* Generate the automaton for the synchronized system *S* by the implemented functions `synch`, \n",
    "* and compare the results with the reachbility graph in **2.1**."
   ]
  },
  {
   "cell_type": "code",
   "execution_count": 24,
   "metadata": {
    "deletable": false,
    "nbgrader": {
     "checksum": "9c1833a01f2834304e20f8698f80c08d",
     "grade": false,
     "grade_id": "sync_automaton_impl",
     "locked": false,
     "schema_version": 1,
     "solution": true
    }
   },
   "outputs": [
    {
     "data": {
      "image/png": "[encoded data removed]",
      "text/plain": [
       "<IPython.core.display.Image object>"
      ]
     },
     "metadata": {},
     "output_type": "display_data"
    }
   ],
   "source": [
    "def make_synchronized_automaton_S():\n",
    "    \"\"\"\n",
    "    A little helper function to create the automaton of S.\n",
    "    \n",
    "    Define the automata sp1 and sp2 in here too.\n",
    "    We will call this function later in the tests.\n",
    "    \"\"\"\n",
    "    sp1 = Automaton(states={'sp11', 'sp12'},\n",
    "               init='sp11',\n",
    "               events={'c','b'},\n",
    "               trans={Transition('sp11', 'b', 'sp12'), Transition('sp12', 'c', 'sp11')},\n",
    "               marked={'sp11'})\n",
    "    sp2 = Automaton(states={'sp21', 'sp22'},\n",
    "               init='sp21',\n",
    "               events={'c','d'},\n",
    "               trans={Transition('sp21', 'c', 'sp22'), Transition('sp22', 'd', 'sp21')},\n",
    "               marked={'sp21'} )\n",
    "    S = synch(synch(synch(p1, p2),sp1),sp2)\n",
    "    return S\n",
    "\n",
    "S = make_synchronized_automaton_S()\n",
    "display(plot_automaton(S, 'P1P2SP1SP2'))"
   ]
  },
  {
   "cell_type": "code",
   "execution_count": 25,
   "metadata": {
    "deletable": false,
    "editable": false,
    "nbgrader": {
     "checksum": "64eac534f0d5cc35ce1a84e014d2ac59",
     "grade": true,
     "grade_id": "sync_automaton_test",
     "locked": true,
     "points": 1,
     "schema_version": 1,
     "solution": false
    }
   },
   "outputs": [],
   "source": [
    "S = make_synchronized_automaton_S()\n",
    "assert S.init == 'p11.p21.sp11.sp21', 'Please, follow the synchronization order specified in Task 2!'\n"
   ]
  },
  {
   "cell_type": "code",
   "execution_count": 26,
   "metadata": {},
   "outputs": [],
   "source": [
    "S = make_synchronized_automaton_S()\n",
    "assert S.init == 'p11.p21.sp11.sp21', 'Please, follow the synchronization order specified in Task 2!'\n",
    "\n",
    "### BEGIN HIDDEN TESTS\n",
    "S = make_synchronized_automaton_S()\n",
    "assert len(S.states) == 12, 'Incorrect number of states. Of by {}'.format(len(S.states) - 12)\n",
    "assert len(S.events) == 5, 'Incorrect number of events. Of by {}'.format(len(S.events) - 5)\n",
    "assert len(S.trans) == 19, 'Incorrect number of transitions. Of by {}'.format(len(S.trans) - 19)\n",
    "assert len(S.marked) == 2, 'Incorrect number of marked states. Of by {}'.format(len(S.marked) - 2)\n",
    "\n",
    "# Check if problem with specifications\n",
    "sp1 = Automaton(states={'sp11', 'sp12'},\n",
    "               init='sp11',\n",
    "               events={'b', 'c'},\n",
    "               trans={Transition('sp11', 'b', 'sp12'),\n",
    "                      Transition('sp12', 'c', 'sp11')},\n",
    "               marked={'sp11'})\n",
    "sp2 = Automaton(states={'sp21', 'sp22'},\n",
    "               init='sp21',\n",
    "               events={'c', 'd'},\n",
    "               trans={Transition('sp21', 'c', 'sp22'),\n",
    "                      Transition('sp22', 'd', 'sp21')},\n",
    "               marked={'sp21'})\n",
    "    \n",
    "T = synch(synch(p1, p2), synch(sp1, sp2))\n",
    "\n",
    "assert S.states == T.states\n",
    "assert S.events == T.events\n",
    "assert S.marked == T.marked\n",
    "assert S.forbidden == T.forbidden\n",
    "### END HIDDEN TESTS"
   ]
  },
  {
   "cell_type": "markdown",
   "metadata": {
    "deletable": false,
    "editable": false,
    "nbgrader": {
     "checksum": "3dec35e2e6d99244ff1fc0a5fd5d48e0",
     "grade": false,
     "grade_id": "cell-aceb60304219fe5d",
     "locked": true,
     "schema_version": 1,
     "solution": false
    }
   },
   "source": [
    "Compare the synchronized automaton of *S* to the reachability graph."
   ]
  },
  {
   "cell_type": "markdown",
   "metadata": {
    "deletable": false,
    "nbgrader": {
     "checksum": "0ebe6bc5030465aea01f7c9636525e2f",
     "grade": true,
     "grade_id": "comparison",
     "locked": false,
     "points": 1,
     "schema_version": 1,
     "solution": true
    }
   },
   "source": [
    "### Answer:\n",
    "\n",
    "As can be very easily seen, both synchronized automaton and reachability graph are exactly the same.\n",
    "\n",
    "We have achieved this by calculating the reachability graph and then mapping each State Tuple to the respective name \n",
    "\n",
    "* example: (10101010) $\\rightarrow$ (p11.p21.sp11.sp21). \n",
    "\n",
    "The same has been made for the events. \n",
    "\n",
    "The only difference between the two graphs, is that in the reachability graph no marked state was drawn. That happens because the class DiGraph does not have a field for marked or forbidden states. Such property could have been added, enabling the calculation and representation of synchronized marked and forbidden states.  "
   ]
  },
  {
   "cell_type": "markdown",
   "metadata": {
    "deletable": false,
    "editable": false,
    "nbgrader": {
     "checksum": "ba8eaada248208a6b8081cd70b76de1e",
     "grade": false,
     "grade_id": "cell-a346995c24950d73",
     "locked": true,
     "schema_version": 1,
     "solution": false
    }
   },
   "source": [
    "## Task 2.3 - Blocking states\n",
    "\n",
    "* Calculate the reachable and coreachable states in *S* by the implemented functions `reach` and `coreach`, and identify blocking states (states from where no marked state can be reached)."
   ]
  },
  {
   "cell_type": "code",
   "execution_count": 27,
   "metadata": {
    "deletable": false,
    "nbgrader": {
     "checksum": "4c9f486ecd7941f650a5daf8c5e0b4c6",
     "grade": false,
     "grade_id": "blocking_impl",
     "locked": false,
     "schema_version": 1,
     "solution": true
    }
   },
   "outputs": [
    {
     "name": "stdout",
     "output_type": "stream",
     "text": [
      "The blocking states are:  {'p11.p21.sp12.sp22', 'p12.p21.sp11.sp22', 'p12.p21.sp12.sp22', 'p11.p21.sp11.sp22'}\n"
     ]
    }
   ],
   "source": [
    "reachable = reach(S.events, S.trans, set([S.init]), S.forbidden)\n",
    "coreachable = coreach(S.events, S.trans, S.marked, S.forbidden)\n",
    "blocking = S.states - (reachable & coreachable)\n",
    "\n",
    "print('The blocking states are: ', blocking)"
   ]
  },
  {
   "cell_type": "code",
   "execution_count": 28,
   "metadata": {},
   "outputs": [],
   "source": [
    "assert reachable is not None\n",
    "assert coreachable is not None\n",
    "assert blocking is not None\n",
    "\n",
    "### BEGIN HIDDEN TESTS\n",
    "assert reachable != coreachable\n",
    "assert blocking == {'p11.p21.sp11.sp22', 'p12.p21.sp11.sp22', 'p12.p21.sp12.sp22', 'p11.p21.sp12.sp22'}\n",
    "### END HIDDEN TESTS"
   ]
  },
  {
   "cell_type": "code",
   "execution_count": 29,
   "metadata": {
    "deletable": false,
    "editable": false,
    "nbgrader": {
     "checksum": "db26152da3826043e825debe7036c8a2",
     "grade": true,
     "grade_id": "blocking_impl_test",
     "locked": true,
     "points": 1,
     "schema_version": 1,
     "solution": false
    }
   },
   "outputs": [],
   "source": [
    "assert reachable is not None\n",
    "assert coreachable is not None\n",
    "assert blocking is not None\n"
   ]
  },
  {
   "cell_type": "markdown",
   "metadata": {
    "deletable": false,
    "editable": false,
    "nbgrader": {
     "checksum": "4937b6f8faf869454ef14473deec4559",
     "grade": false,
     "grade_id": "cell-a92f557ddc69c607",
     "locked": true,
     "schema_version": 1,
     "solution": false
    }
   },
   "source": [
    "## Task 2.4 - Modified Spec\n",
    "\n",
    "* Modify the specifications to avoid the blocking states, and verify that no blocking states are achieved by showing that the reachable and coreachable states of *S* are the same for the modified specifications.\n",
    "* Explain your modifications first in natural language."
   ]
  },
  {
   "cell_type": "markdown",
   "metadata": {
    "deletable": false,
    "nbgrader": {
     "checksum": "146ae3067a1913f922f4085f2dbbeba5",
     "grade": true,
     "grade_id": "cell-620d9d0d05fe0bec",
     "locked": false,
     "points": 1,
     "schema_version": 1,
     "solution": true
    }
   },
   "source": [
    "### Answer\n",
    "\n",
    "As noticed in the synchronized automaton as well as in the reachability graph, there are 4 forbidden states. As can be easily seen, all of them have in common that they are called by and only by the same event **e** and also by and only by synchronized states where **p22** is active, i.e. (**%%.%%.%%.p22**).\n",
    "\n",
    "The solution then turns out to be simple, once we only need to avoid all synchronized states (**%%.%%.%%.p22**) from calling **e**. To do so, we only need to add the event **e** to the alphabet of Sp2. In this way, we will avoid **Sp22** and therefore the synchronized system from calling **e**.\n",
    "\n",
    "-"
   ]
  },
  {
   "cell_type": "code",
   "execution_count": 30,
   "metadata": {
    "deletable": false,
    "nbgrader": {
     "checksum": "4f8ee0a60e6ddb0462e5c7f90039f285",
     "grade": false,
     "grade_id": "sp1_new",
     "locked": false,
     "schema_version": 1,
     "solution": true
    }
   },
   "outputs": [
    {
     "data": {
      "image/png": "[encoded data removed]",
      "text/plain": [
       "<IPython.core.display.Image object>"
      ]
     },
     "execution_count": 30,
     "metadata": {},
     "output_type": "execute_result"
    }
   ],
   "source": [
    "sp1_new = Automaton(states={'sp11', 'sp12'},\n",
    "                   init='sp11',\n",
    "                   events={'c','b'},\n",
    "                   trans={Transition('sp11', 'b', 'sp12'), Transition('sp12', 'c', 'sp11')},\n",
    "                   marked={'sp11'})\n",
    "\n",
    "plot_automaton(sp1_new, 'SP1_new') "
   ]
  },
  {
   "cell_type": "code",
   "execution_count": 31,
   "metadata": {
    "deletable": false,
    "nbgrader": {
     "checksum": "3d83f2873a0bdf470d54141b8f39a050",
     "grade": false,
     "grade_id": "sp2_new",
     "locked": false,
     "schema_version": 1,
     "solution": true
    }
   },
   "outputs": [
    {
     "data": {
      "image/png": "[encoded data removed]",
      "text/plain": [
       "<IPython.core.display.Image object>"
      ]
     },
     "execution_count": 31,
     "metadata": {},
     "output_type": "execute_result"
    }
   ],
   "source": [
    "sp2_new = Automaton(states={'sp21', 'sp22'},\n",
    "                   init='sp21',\n",
    "                   events={'c','d','e'},\n",
    "                   trans={Transition('sp21', 'c', 'sp22'), Transition('sp22', 'd', 'sp21')},\n",
    "                   marked={'sp21'} )\n",
    "\n",
    "plot_automaton(sp2_new, 'SP2_new')"
   ]
  },
  {
   "cell_type": "code",
   "execution_count": 32,
   "metadata": {
    "deletable": false,
    "nbgrader": {
     "checksum": "fe3c186521a8902b2aaeb06e1a89481d",
     "grade": false,
     "grade_id": "S_new_impl",
     "locked": false,
     "schema_version": 1,
     "solution": true
    }
   },
   "outputs": [
    {
     "name": "stdout",
     "output_type": "stream",
     "text": [
      "The blocking states now are:  set()\n"
     ]
    },
    {
     "data": {
      "image/png": "[encoded data removed]",
      "text/plain": [
       "<IPython.core.display.Image object>"
      ]
     },
     "execution_count": 32,
     "metadata": {},
     "output_type": "execute_result"
    }
   ],
   "source": [
    "# Now synchronize with the new specifications\n",
    "S_new = synch(synch(p1, p2), synch(sp1_new, sp2_new))\n",
    "\n",
    "reachable_new = reach(S_new.events, S_new.trans, set([S_new.init]), S_new.forbidden)\n",
    "coreachable_new = coreach(S_new.events, S_new.trans, S_new.marked, S_new.forbidden) \n",
    "blocking_new = S_new.states - (reachable & coreachable)\n",
    "\n",
    "print('The blocking states now are: ', blocking_new)\n",
    "plot_automaton(S_new, 'S_new') "
   ]
  },
  {
   "cell_type": "code",
   "execution_count": 33,
   "metadata": {
    "deletable": false,
    "editable": false,
    "nbgrader": {
     "checksum": "5398fe911bfffb8501d9dfba68cf5fc2",
     "grade": true,
     "grade_id": "S_new_test",
     "locked": true,
     "points": 1,
     "schema_version": 1,
     "solution": false
    }
   },
   "outputs": [],
   "source": [
    "assert reachable_new is not None\n",
    "assert coreachable_new is not None\n",
    "assert blocking_new is not None\n"
   ]
  },
  {
   "cell_type": "code",
   "execution_count": 34,
   "metadata": {},
   "outputs": [],
   "source": [
    "####################################################################################################################################\n",
    "####################################################################################################################################\n",
    "####################################################################################################################################\n",
    "\n",
    "assert reachable_new is not None\n",
    "assert coreachable_new is not None\n",
    "assert blocking_new is not None\n",
    "\n",
    "### BEGIN HIDDEN TESTS\n",
    "assert blocking_new == set()\n",
    "assert reachable_new == coreachable_new\n",
    "assert len(S_new.states) == 8, 'Incorrect number of states. Of by {}'.format(len(S_new.states) - 8)\n",
    "assert len(S_new.events) == 5, 'Incorrect number of events. Of by {}'.format(len(S_new.events) - 5)\n",
    "assert len(S_new.trans) == 12, 'Incorrect number of transitions. Of by {}'.format(len(S_new.trans) - 12)\n",
    "assert len(S_new.marked) == 2, 'Incorrect number of marked states. Of by {}'.format(len(S_new.marked) - 2)\n",
    "### END HIDDEN TESTS"
   ]
  },
  {
   "cell_type": "markdown",
   "metadata": {
    "deletable": false,
    "editable": false,
    "nbgrader": {
     "checksum": "4ffb1439f0f7464683324c9f93d99c0c",
     "grade": false,
     "grade_id": "cell-ca4413be58012d08",
     "locked": true,
     "schema_version": 1,
     "solution": false
    }
   },
   "source": [
    "- - -\n",
    "\n",
    "Congratulations! You have reached the end of the assignment. Now,\n",
    "\n",
    "* Save the notebook\n",
    "* Upload the .ipynb file to Ping Pong\n",
    "* Enjoy the rest of the day! "
   ]
  }
 ],
 "metadata": {
  "kernelspec": {
   "display_name": "Python 3",
   "language": "python",
   "name": "python3"
  },
  "language_info": {
   "codemirror_mode": {
    "name": "ipython",
    "version": 3
   },
   "file_extension": ".py",
   "mimetype": "text/x-python",
   "name": "python",
   "nbconvert_exporter": "python",
   "pygments_lexer": "ipython3",
   "version": "3.6.4"
  },
  "latex_envs": {
   "LaTeX_envs_menu_present": true,
   "autoclose": false,
   "autocomplete": true,
   "bibliofile": "biblio.bib",
   "cite_by": "apalike",
   "current_citInitial": 1,
   "eqLabelWithNumbers": true,
   "eqNumInitial": 1,
   "hotkeys": {
    "equation": "Ctrl-E",
    "itemize": "Ctrl-I"
   },
   "labels_anchors": false,
   "latex_user_defs": false,
   "report_style_numbering": false,
   "user_envs_cfg": false
  }
 },
 "nbformat": 4,
 "nbformat_minor": 2
}
