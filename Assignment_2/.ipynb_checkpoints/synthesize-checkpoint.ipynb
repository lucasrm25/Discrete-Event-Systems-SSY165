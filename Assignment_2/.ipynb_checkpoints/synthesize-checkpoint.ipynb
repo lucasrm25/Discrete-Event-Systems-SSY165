{
 "cells": [
  {
   "cell_type": "markdown",
   "metadata": {
    "deletable": false,
    "editable": false,
    "nbgrader": {
     "checksum": "8a9e160a7b9b06678562bab0a4485857",
     "grade": false,
     "grade_id": "cell-6ec5aa4507a8f918",
     "locked": true,
     "schema_version": 1,
     "solution": false
    }
   },
   "source": [
    "<center>\n",
    "\n",
    "# Discrete Event Systems\n",
    "\n",
    "## Home Assignment 2\n",
    "\n",
    "### Nonblocking and Controllable Supervisor Synthesis\n",
    "\n",
    "- - -"
   ]
  },
  {
   "cell_type": "markdown",
   "metadata": {
    "deletable": false,
    "editable": false,
    "nbgrader": {
     "checksum": "67ee27fe9cfae7f14c132edc14cf2c34",
     "grade": false,
     "grade_id": "cell-d299ce342e54a4d8",
     "locked": true,
     "schema_version": 1,
     "solution": false
    }
   },
   "source": [
    "# Introduction\n",
    "\n",
    "The objective of this home assignment is to extend the results already obtained in Home Assignment 1 by including uncontrollable events and generating a supervisor that is both nonblocking and controllable. This will be achieved by implementing two algorithms already presented in the lecture notes in Python, but also implementing a new function that generates uncontrollable states.\n",
    "\n",
    "This home assignment is performend in *two member groups*. Write all your answers into this notebook and **submit only this notebook (.ipynb) on PingPong**"
   ]
  },
  {
   "cell_type": "markdown",
   "metadata": {
    "deletable": false,
    "editable": false,
    "nbgrader": {
     "checksum": "c61914805edab77bee41777080ece47f",
     "grade": false,
     "grade_id": "cell-8dfe6514b5b0e564",
     "locked": true,
     "schema_version": 1,
     "solution": false
    }
   },
   "source": [
    "## Comments and Recommendations\n",
    "Once again:\n",
    "\n",
    "* This assignment is written for Python 3.5 or later! Executing it with Python version 2.7 won't work.\n",
    "* If you get stuck with Python or Jupyter, try to google it! E.g. your search query could be *\"python --INSERT ERROR HERE--\"*. Chances are high, heaps of people had the same problem before you.\n",
    "* To show line numbers in a cell, go to *View* and click on *Toggle Line Numbers*.\n",
    "* If your code passes all the tests in this notebook, you are on a good way. That does not mean you have passed though! We will test your code with additional edge cases. So convice yourself that everything is correct before you submit."
   ]
  },
  {
   "cell_type": "markdown",
   "metadata": {
    "deletable": false,
    "editable": false,
    "nbgrader": {
     "checksum": "c1ff1490f5f6ed2f4bc2f7a407965184",
     "grade": false,
     "grade_id": "cell-14d9e8d5cc01d1b4",
     "locked": true,
     "schema_version": 1,
     "solution": false
    }
   },
   "source": [
    "- - -"
   ]
  },
  {
   "cell_type": "markdown",
   "metadata": {
    "deletable": false,
    "editable": false,
    "nbgrader": {
     "checksum": "7547c500a7f81e107cf26116958938c2",
     "grade": false,
     "grade_id": "cell-bd0cf70d10622a53",
     "locked": true,
     "schema_version": 1,
     "solution": false
    }
   },
   "source": [
    "# Preliminaries\n",
    "\n",
    "In this assignment, we will re-use parts of Assignment 1. Make sure to execute the cell below."
   ]
  },
  {
   "cell_type": "code",
   "execution_count": 1,
   "metadata": {},
   "outputs": [],
   "source": [
    "from util import Automaton, Transition\n",
    "from util import plot_automaton\n",
    "from util import filter_trans_by_source, filter_trans_by_events, filter_trans_by_target\n",
    "from util import extract_elems_from_trans, flip_trans \n",
    "from util import merge_label, cross_product \n",
    "\n",
    "def reach(events, trans, start_states, forbidden):\n",
    "    \"\"\"\n",
    "    Returns the forward reachable states of a transition set\n",
    "    \n",
    "    :param events: set of events\n",
    "    :param trans: set of transitions\n",
    "    :param start_states: set of states\n",
    "    :param forbidden: set of forbidden states\n",
    "    \"\"\"\n",
    "    reach_states = start_states - forbidden\n",
    "    last_reach_states = set()\n",
    "    while not reach_states == last_reach_states:\n",
    "        last_reach_states = reach_states.copy()\n",
    "        t = filter_trans_by_source(trans, reach_states)\n",
    "        t = filter_trans_by_events(t, events)\n",
    "        reach_states |= (extract_elems_from_trans(t, 'target') - forbidden)\n",
    "    return reach_states\n",
    "\n",
    "\n",
    "def coreach(events, trans, start_states, forbidden):\n",
    "    \"\"\"\n",
    "    Returns the coreachable (backward reachable) states of a transition set\n",
    "    \n",
    "    :param events: set of events\n",
    "    :param trans: set of transitions\n",
    "    :param start_states: set of states\n",
    "    :param forbidden: set of forbidden states\n",
    "    \"\"\"\n",
    "    return reach(events, flip_trans(trans), start_states, forbidden)\n",
    "\n",
    "\n",
    "def synch(aut1, aut2):\n",
    "    \"\"\"\n",
    "    Returns the synchronous composition of two automata.\n",
    "    \n",
    "    :param aut1: Automaton\n",
    "    :param aut2: Automaton\n",
    "    \"\"\"\n",
    "    states = cross_product(aut1.states, aut2.states)\n",
    "    init = merge_label(aut1.init, aut2.init)\n",
    "    events = aut1.events | aut2.events\n",
    "    \n",
    "    # Add self loops\n",
    "    trans1 = aut1.trans.copy()\n",
    "    for event in aut2.events - aut1.events:\n",
    "        for state in aut1.states:\n",
    "            trans1.add(Transition(state, event, state))\n",
    "    \n",
    "    trans2 = aut2.trans.copy()\n",
    "    for event in aut1.events - aut2.events:\n",
    "        for state in aut2.states:\n",
    "            trans2.add(Transition(state, event, state))\n",
    "    \n",
    "    # Transitions\n",
    "    trans = set()\n",
    "    for t1 in trans1:\n",
    "        for t2 in trans2:\n",
    "            if t1.event == t2.event:\n",
    "                trans.add(Transition(merge_label(t1.source, t2.source),\n",
    "                                     t1.event,\n",
    "                                     merge_label(t1.target, t2.target)))\n",
    "    \n",
    "    # Marked states\n",
    "    m1 = aut1.marked if aut1.marked else aut1.states\n",
    "    m2 = aut2.marked if aut2.marked else aut2.states\n",
    "    marked = cross_product(m1,m2)\n",
    "    \n",
    "    # Forbidden states\n",
    "    forbidden = cross_product(aut1.forbidden, aut2.states) | cross_product(aut1.states, aut2.forbidden)\n",
    "    \n",
    "    # Removing unreachable states\n",
    "    reachable = reach(events, trans, {init}, set())\n",
    "    marked &= reachable\n",
    "    forbidden &= reachable\n",
    "    trans = filter_trans_by_source(trans, reachable)\n",
    "    \n",
    "    # Create synchronized automaton\n",
    "    return Automaton(reachable, init, events, trans, marked, forbidden)"
   ]
  },
  {
   "cell_type": "markdown",
   "metadata": {
    "deletable": false,
    "editable": false,
    "nbgrader": {
     "checksum": "caf7fda28bc36ac8a4159b2a3415f723",
     "grade": false,
     "grade_id": "cell-9d31ed14c04b490c",
     "locked": true,
     "schema_version": 1,
     "solution": false
    }
   },
   "source": [
    "- - -"
   ]
  },
  {
   "cell_type": "markdown",
   "metadata": {
    "deletable": false,
    "editable": false,
    "nbgrader": {
     "checksum": "915bb14327a67658cbc16851d3ece040",
     "grade": false,
     "grade_id": "cell-777ac3adcbea1aa1",
     "locked": true,
     "schema_version": 1,
     "solution": false
    }
   },
   "source": [
    "# Task 1\n",
    "\n",
    "## Synthesis\n",
    "\n",
    "Using `reach`, `coreach` and `synch` from the first assignment, your task is now to implement:\n",
    "\n",
    "$\\qquad$ `S = supervisor(P, Sp, sigma_u)`\n",
    "    \n",
    "that, given a plant $P$, a specification $Sp$ and a set of uncontrollable events $\\Sigma_u$, generates a nonblocking and controllable supervisor $S$. Note that $\\Sigma_u \\subseteq \\Sigma^P$, and it is assumed that $\\Sigma^{Sp} \\subseteq \\Sigma^P$, where $\\Sigma^P$ and $\\Sigma^{Sp}$ are the event sets of the plant $P$ and the specification $Sp$. The supervisor is generated by implementing and applying algorithm 3 in the lecture notes.\n",
    "\n",
    "Your code should raise a `ValueError` when there exist no supervisor that can fulfill the specification:\n",
    "\n",
    "$\\qquad$ `if noSupervisorExists: raise ValueError`\n",
    "\n",
    "* *Note:* If more than one plant and/or specification model are involved, the total plant and/or specification model is generated by synchronizingthe local models. For instance, $P_1, P_2, Sp_1$ and $Sp_2$ gives $P = P_1 \\parallel P_2$ and $Sp = Sp_1 \\parallel Sp_2$.\n",
    "\n",
    "* *Note:* One of the input sets in Algorithm 3 is the set of forbidden states. Implement specifically a function that generates this forbidden state set, including both explicitly forbidden states and uncontrollable states.\n",
    "\n",
    "* *Note:* In the synchronization of two automaton $A$ and $B$, the names of the original states $q^A$ and $q^B$ can be identified, since the merge state function generates state names $q^A.q^B$. Identification of the reachable states in $P \\parallel Sp$ and the corresponding states in $P$ and $Sp$ simplifies the generation of the uncontrollable states. "
   ]
  },
  {
   "cell_type": "markdown",
   "metadata": {
    "deletable": false,
    "editable": false,
    "nbgrader": {
     "checksum": "4159a61e855a6595b51effbd91c58791",
     "grade": false,
     "grade_id": "cell-20bae39ada6e58e6",
     "locked": true,
     "schema_version": 1,
     "solution": false
    }
   },
   "source": [
    "Here are some helper functions that might help you with your implementation of the algorithm in code."
   ]
  },
  {
   "cell_type": "code",
   "execution_count": 2,
   "metadata": {
    "deletable": false,
    "editable": false,
    "nbgrader": {
     "checksum": "f3ceb380c9c88ce090563430eca389ad",
     "grade": false,
     "grade_id": "cell-7662cb2eea3fb197",
     "locked": true,
     "schema_version": 1,
     "solution": false
    }
   },
   "outputs": [],
   "source": [
    "# These two functions follow the definition of uncontrollable states given on page 100 in the Lecture Notes\n",
    "def is_defined_for_p(p_trans, merged_source, shared_sigma_u):\n",
    "    \"\"\"\n",
    "    Boolean check whether there is an uncontrollable transition defined in P\n",
    "    with the merged_source as start state.\n",
    "    \n",
    "    :param p_trans: Set of transitions in automaton P\n",
    "    :param merged_source: String label of the merged state in P||Q\n",
    "    :param shared_sigma_u: Set of uncontrollable events shared between P and Q.\n",
    "    \"\"\"\n",
    "    validate_inputs(p_trans, merged_source, shared_sigma_u)\n",
    "    uncontrollable_trans = filter_trans_by_events(p_trans, shared_sigma_u)\n",
    "    u_trans_from_merged_source = {t for t in uncontrollable_trans \n",
    "                                  if merged_source.startswith(str(t.source))}\n",
    "    return u_trans_from_merged_source != set()\n",
    "\n",
    "def is_defined_for_q(q_trans, merged_source, shared_sigma_u):\n",
    "    \"\"\"\n",
    "    Boolean check whether there is an uncontrollable transition defined in Q\n",
    "    with the merged_source as start state.\n",
    "    \n",
    "    :param q_trans: Set of transitions in automaton Q\n",
    "    :param merged_source: String label of the merged state in P||Q\n",
    "    :param shared_sigma_u: Set of uncontrollable events shared between P and Q.\n",
    "    \"\"\"\n",
    "    validate_inputs(q_trans, merged_source, shared_sigma_u)\n",
    "    uncontrollable_trans = filter_trans_by_events(q_trans, shared_sigma_u)\n",
    "    u_trans_from_merged_source = {t for t in uncontrollable_trans \n",
    "                                  if merged_source.endswith(str(t.source))}\n",
    "    return u_trans_from_merged_source != set()\n",
    "\n",
    "def validate_inputs(trans, source, events):\n",
    "    assert type(trans) is set\n",
    "    assert type(source) is str\n",
    "    assert type(events) is set"
   ]
  },
  {
   "cell_type": "code",
   "execution_count": 3,
   "metadata": {
    "deletable": false,
    "nbgrader": {
     "checksum": "eb512dc4cc6639ef2b2c1480bdfb60c3",
     "grade": false,
     "grade_id": "reach_impl",
     "locked": false,
     "schema_version": 1,
     "solution": true
    },
    "scrolled": false
   },
   "outputs": [],
   "source": [
    "# Now implement the function in code\n",
    "def supervisor(P, Sp, sigma_u):\n",
    "    \"\"\"\n",
    "    Generates a nonblocking and controllable supervisor for the synchronized system P||Sp.\n",
    "    \n",
    "    :param P: automaton of the palnt\n",
    "    :param Sp: automaton of the specification\n",
    "    :param sigma_u: set of uncontrollable events\n",
    "    \"\"\"\n",
    "    S0 = synch(P,Sp)\n",
    "    \n",
    "    # Quc = {<p, q> ∈ Q^{P||Sp} | ∃σ_u ∈ Σ_u ∩ Σ^Sp AND δ^P (p, σ_u) ∈ Q^P AND δ^Sp(q, σ_u) not defined}\n",
    "    Xk = S0.forbidden | {q for q in S0.states if is_defined_for_p(P.trans,q, sigma_u&Sp.events) and not  \n",
    "                                                 is_defined_for_q(Sp.trans,q, sigma_u&Sp.events)} \n",
    "    print('Initial Uncontrollable: {}\\n'.format(Xk))\n",
    "    \n",
    "    while True:\n",
    "        X = Xk\n",
    "        Qp  = coreach(S0.events, S0.trans, S0.marked, X)\n",
    "        print('New Blocking: {}'.format(S0.states-Qp-X))\n",
    "        Qpp = coreach(sigma_u, S0.trans, S0.states-Qp, set())\n",
    "        print('New Uncontrollable: {}\\n'.format(Qpp - (S0.states-Qp) ))\n",
    "        Xk = X | Qpp\n",
    "        if X == Xk: break\n",
    "    \n",
    "    safeStates = S0.states-Xk #reach(S0.events, S0.trans, S0.states-Xk, S0.forbidden)    \n",
    "    print('SafeStates: {}\\n'.format(safeStates))\n",
    "    \n",
    "    marked = S0.marked & safeStates\n",
    "    forbidden = S0.forbidden & safeStates\n",
    "    trans = {t for t in S0.trans if set([t.source,t.target]).issubset(safeStates)}\n",
    "    events = S0.events\n",
    "    \n",
    "    if not safeStates or not {S0.init}.issubset(safeStates): raise ValueError('There exist no supervisor that can fulfill the specification')\n",
    "    return Automaton(states=safeStates, init=S0.init, events=events, trans=trans, marked=marked, forbidden=forbidden)"
   ]
  },
  {
   "cell_type": "code",
   "execution_count": 4,
   "metadata": {
    "code_folding": [],
    "deletable": false,
    "editable": false,
    "nbgrader": {
     "checksum": "07eae6d875379d0fa73b88aa395bbd5e",
     "grade": true,
     "grade_id": "reach_test",
     "locked": true,
     "points": 1,
     "schema_version": 1,
     "solution": false
    }
   },
   "outputs": [
    {
     "name": "stdout",
     "output_type": "stream",
     "text": [
      "Initial Uncontrollable: set()\n",
      "\n",
      "New Blocking: set()\n",
      "New Uncontrollable: set()\n",
      "\n",
      "SafeStates: {'1.2'}\n",
      "\n",
      "Initial Uncontrollable: set()\n",
      "\n",
      "New Blocking: set()\n",
      "New Uncontrollable: set()\n",
      "\n",
      "SafeStates: {'3.2', '2.2', '1.1'}\n",
      "\n",
      "Initial Uncontrollable: {'2.2'}\n",
      "\n",
      "New Blocking: set()\n",
      "New Uncontrollable: set()\n",
      "\n",
      "SafeStates: {'1.1'}\n",
      "\n",
      "Initial Uncontrollable: set()\n",
      "\n",
      "New Blocking: {'1.3', '1.4'}\n",
      "New Uncontrollable: {'1.2'}\n",
      "\n",
      "New Blocking: set()\n",
      "New Uncontrollable: set()\n",
      "\n",
      "SafeStates: {'1.1'}\n",
      "\n",
      "Initial Uncontrollable: set()\n",
      "\n",
      "New Blocking: {'1.3', '1.4'}\n",
      "New Uncontrollable: {'1.2'}\n",
      "\n",
      "New Blocking: set()\n",
      "New Uncontrollable: set()\n",
      "\n",
      "SafeStates: {'1.1'}\n",
      "\n"
     ]
    }
   ],
   "source": [
    "# Test case 0 - Single states\n",
    "P = Automaton(states={1},\n",
    "              init=1,\n",
    "              events=set(),\n",
    "              trans=set())\n",
    "Sp = Automaton(states={2},\n",
    "               init=2,\n",
    "               events=set(),\n",
    "               trans=set())\n",
    "S = supervisor(P, Sp, set())\n",
    "assert S.states == {'1.2'}, 'TC 0.1 - got {} instead'.format(S.states)\n",
    "assert S.events == set(), 'TC 0.2 - got {} instead'.format(S.events)\n",
    "\n",
    "\n",
    "\n",
    "# Test case 1 - Three states\n",
    "P = Automaton(states={1, 2, 3},\n",
    "              init=1,\n",
    "              events={'a', 'b'},\n",
    "              trans={Transition(1, 'a', 2), Transition(2, 'b', 3)})\n",
    "Sp = Automaton(states={1, 2},\n",
    "               init=1,\n",
    "               events={'a'},\n",
    "               trans={Transition(1, 'a', 2)})\n",
    "S = supervisor(P, Sp, set())\n",
    "assert S.states == {'1.1', '2.2', '3.2'}, 'TC 1.1 - got {} instead'.format(S.states)\n",
    "assert S.init == '1.1', 'TC 1.2 - got {} instead'.format(S.init)\n",
    "assert S.events == {'a', 'b'}, 'TC 1.3 - got {} instead'.format(S.events)\n",
    "assert S.forbidden == set(), 'TC 1.4 - got {} instead'.format(S.forbidden)\n",
    "\n",
    "\n",
    "\n",
    "# Test case 2 - Three states and an uncontrolable event\n",
    "P = Automaton(states={1, 2, 3},\n",
    "              init=1,\n",
    "              events={'a', 'b'},\n",
    "              trans={Transition(1, 'a', 2), Transition(2, 'b', 3)})\n",
    "Sp = Automaton(states={1, 2},\n",
    "               init=1,\n",
    "               events={'a', 'b'},\n",
    "               trans={Transition(1, 'a', 2)})\n",
    "S = supervisor(P, Sp, {'b'})\n",
    "assert S.states == {'1.1'}, 'TC 2.1 - got {} instead'.format(S.states)\n",
    "assert S.init == '1.1', 'TC 2.2 - got {} instead'.format(S.init)\n",
    "assert S.events == {'a', 'b'}, 'TC 2.3 - got {} instead'.format(S.events)\n",
    "assert S.forbidden == set(), 'TC 2.4 - got {} instead'.format(S.forbidden)\n",
    "\n",
    "# Test case 3 - Two uncontrollable transitions in a sequence\n",
    "P = Automaton(states={1},\n",
    "              init=1,\n",
    "              events=set(),\n",
    "              trans=set())\n",
    "Sp1 = Automaton(states={1, 2, 3, 4},\n",
    "               init=1,\n",
    "               events={'a', 'b'},\n",
    "               trans={Transition(1, 'a', 2),Transition(2, 'b', 3),Transition(3, 'b', 4)},\n",
    "               marked={1,2})\n",
    "Sp2 = Automaton(states={1, 2, 3, 4},\n",
    "               init=1,\n",
    "               events={'a', 'b'},\n",
    "               trans={Transition(1, 'a', 2),Transition(2, 'b', 3),Transition(3, 'b', 4)},\n",
    "               marked={1,2})\n",
    "S = supervisor(P, Sp1, {'b'})\n",
    "assert S == supervisor(P, Sp2, {'b'})\n",
    "assert S.states == {'1.1'}, 'TC 3.1 - got {} instead'.format(S.states)\n",
    "assert S.init == '1.1', 'TC 3.2 - got {} instead'.format(S.init)\n",
    "assert S.events == {'a', 'b'}, 'TC 3.3 - got {} instead'.format(S.events)\n",
    "assert S.trans == set(), 'TC 3.4 - got {} instead'.format(S.forbidden)\n",
    "assert S.forbidden == set(), 'TC 3.4 - got {} instead'.format(S.forbidden)"
   ]
  },
  {
   "cell_type": "markdown",
   "metadata": {
    "deletable": false,
    "editable": false,
    "nbgrader": {
     "checksum": "d11fe46a5b8dc42a36e20f63dabc85b7",
     "grade": false,
     "grade_id": "cell-c55d42dab3dd9445",
     "locked": true,
     "schema_version": 1,
     "solution": false
    }
   },
   "source": [
    "---"
   ]
  },
  {
   "cell_type": "markdown",
   "metadata": {
    "deletable": false,
    "editable": false,
    "nbgrader": {
     "checksum": "01404b8fc89d5769f29d8730f30779f1",
     "grade": false,
     "grade_id": "cell-a08b96ce1c4b191f",
     "locked": true,
     "schema_version": 1,
     "solution": false
    }
   },
   "source": [
    "# Task 2\n",
    "\n",
    "Evaluate the implementation in Task 1 by generating a nonblocking and controllable supervisor $S$ for the plant and specification models given in \n",
    "\n",
    "* Example 7.5 in the Lecture Notes\n",
    "\n",
    "* Example 7.6 in the Lecture Notes\n",
    "\n",
    "* Task 3 in the Exam Oct 24, 2015"
   ]
  },
  {
   "cell_type": "markdown",
   "metadata": {
    "deletable": false,
    "editable": false,
    "nbgrader": {
     "checksum": "d0819d313a90c080e92f39dc5f6d1801",
     "grade": false,
     "grade_id": "cell-edcd7a107a198eb6",
     "locked": true,
     "schema_version": 1,
     "solution": false
    }
   },
   "source": [
    "## Example 7.5"
   ]
  },
  {
   "cell_type": "code",
   "execution_count": 5,
   "metadata": {
    "deletable": false,
    "nbgrader": {
     "checksum": "fa81a8199ab4854b5aab55e04a3800cf",
     "grade": false,
     "grade_id": "ex7_5",
     "locked": false,
     "schema_version": 1,
     "solution": true
    },
    "scrolled": false
   },
   "outputs": [
    {
     "data": {
      "image/png": "[encoded data removed]",
      "text/plain": [
       "<IPython.core.display.Image object>"
      ]
     },
     "metadata": {},
     "output_type": "display_data"
    },
    {
     "name": "stdout",
     "output_type": "stream",
     "text": [
      "Initial Uncontrollable: {'p12.p21.sp12.sp22', 'p12.p21.sp12.sp21', 'p12.p22.sp12.sp22'}\n",
      "\n",
      "New Blocking: {'p11.p21.sp11.sp22', 'p12.p21.sp11.sp22', 'p11.p21.sp12.sp22'}\n",
      "New Uncontrollable: set()\n",
      "\n",
      "New Blocking: set()\n",
      "New Uncontrollable: set()\n",
      "\n",
      "SafeStates: {'p11.p22.sp12.sp22', 'p12.p21.sp11.sp21', 'p11.p21.sp11.sp21', 'p11.p22.sp11.sp22', 'p11.p21.sp12.sp21', 'p12.p22.sp11.sp22'}\n",
      "\n"
     ]
    },
    {
     "data": {
      "image/png": "[encoded data removed]",
      "text/plain": [
       "<IPython.core.display.Image object>"
      ]
     },
     "metadata": {},
     "output_type": "display_data"
    }
   ],
   "source": [
    "\n",
    "\n",
    "# Create automata P1, P2, SP1 and SP2\n",
    "P1 = Automaton(states={'p11','p12'},\n",
    "              init='p11',\n",
    "              events={'a','b'},\n",
    "              trans={Transition('p11', 'a', 'p12'),Transition('p12', 'b', 'p11')})\n",
    "P2 = Automaton(states={'p21','p22'},\n",
    "              init='p21',\n",
    "              events={'c','d','e'},\n",
    "              trans={Transition('p21', 'c', 'p22'),Transition('p22', 'd', 'p21'),Transition('p22', 'e', 'p21')})\n",
    "SP1 = Automaton(states={'sp11','sp12'},\n",
    "               init='sp11',\n",
    "               events={'b','c'},\n",
    "               trans={Transition('sp11', 'b', 'sp12'),Transition('sp12', 'c', 'sp11')},\n",
    "               marked={'sp11'})\n",
    "SP2 = Automaton(states={'sp21','sp22'},\n",
    "               init='sp21',\n",
    "               events={'c','d'},\n",
    "               trans={Transition('sp21', 'c', 'sp22'),Transition('sp22', 'd', 'sp21')},\n",
    "               marked={'sp21'})\n",
    "\n",
    "Sp = synch(SP1, SP2)\n",
    "P = synch(P1, P2)\n",
    "display(plot_automaton(synch(P,Sp), 'S_7dot5'))\n",
    "S = supervisor(P, Sp, {'b'})\n",
    "display(plot_automaton(S, 'S_7dot5'))"
   ]
  },
  {
   "cell_type": "code",
   "execution_count": 6,
   "metadata": {
    "deletable": false,
    "editable": false,
    "nbgrader": {
     "checksum": "5e1c61d57967206a5461c27b7b4a6855",
     "grade": true,
     "grade_id": "ex7_5_test",
     "locked": true,
     "points": 1,
     "schema_version": 1,
     "solution": false
    }
   },
   "outputs": [],
   "source": [
    "assert type(S) is Automaton\n",
    "\n",
    "# This is optional but simplifies the testing\n",
    "p1_states={'p11','p12'}\n",
    "p2_states={'p21','p22'}\n",
    "sp1_states={'sp11','sp12'}\n",
    "sp2_states={'sp21','sp22'}\n",
    "events={'a', 'b', 'c', 'd', 'e'}\n",
    "assert all({s[0:3] in p1_states and s[4:7] in p2_states and s[8:12] in sp1_states and s[13:17] in sp2_states \n",
    "            for s in S.states}), 'This is optional but, to simplify the tests, \\\n",
    "            please use only the state name from the example and synchronize in the same order, \\\n",
    "            i.e init state whould be p1.p2.sp1.sp2'\n",
    "assert all({e in events for e in S.events}), 'This is optional but, to simplify the tests, \\\n",
    "            please use only the event labels from the example.'"
   ]
  },
  {
   "cell_type": "markdown",
   "metadata": {
    "deletable": false,
    "editable": false,
    "nbgrader": {
     "checksum": "d4a447b5a98d1d87d1a334ec30e7a062",
     "grade": false,
     "grade_id": "cell-7835131a138edbf4",
     "locked": true,
     "schema_version": 1,
     "solution": false
    }
   },
   "source": [
    "## Example 7.6"
   ]
  },
  {
   "cell_type": "code",
   "execution_count": 7,
   "metadata": {
    "deletable": false,
    "nbgrader": {
     "checksum": "e07132244c88af262446e6524cf6907c",
     "grade": false,
     "grade_id": "ex7_6",
     "locked": false,
     "schema_version": 1,
     "solution": true
    }
   },
   "outputs": [
    {
     "data": {
      "image/png": "[encoded data removed]",
      "text/plain": [
       "<IPython.core.display.Image object>"
      ]
     },
     "metadata": {},
     "output_type": "display_data"
    },
    {
     "name": "stdout",
     "output_type": "stream",
     "text": [
      "Initial Uncontrollable: {'p7.q7'}\n",
      "\n",
      "New Blocking: set()\n",
      "New Uncontrollable: {'p6.q6'}\n",
      "\n",
      "New Blocking: {'p5.q5'}\n",
      "New Uncontrollable: {'p2.q2'}\n",
      "\n",
      "New Blocking: set()\n",
      "New Uncontrollable: set()\n",
      "\n",
      "SafeStates: {'p1.q1', 'p4.q4', 'p3.q3'}\n",
      "\n"
     ]
    },
    {
     "data": {
      "image/png": "[encoded data removed]",
      "text/plain": [
       "<IPython.core.display.Image object>"
      ]
     },
     "execution_count": 7,
     "metadata": {},
     "output_type": "execute_result"
    }
   ],
   "source": [
    "P = Automaton(states={'p1','p2','p3','p4','p5','p6','p7','p8'},\n",
    "              init='p1',\n",
    "              events={'a','b','c','d'},\n",
    "              trans={Transition('p1', 'a', 'p2'),\n",
    "                     Transition('p2', 'd', 'p5'),\n",
    "                     Transition('p5', 'a', 'p6'),\n",
    "                     Transition('p6', 'd', 'p7'),\n",
    "                     Transition('p7', 'd', 'p8'),\n",
    "                     Transition('p1', 'c', 'p3'),\n",
    "                     Transition('p2', 'b', 'p4'),\n",
    "                     Transition('p3', 'd', 'p4'),\n",
    "                     Transition('p6', 'b', 'p4')},\n",
    "              marked={'p4'})\n",
    "Sp = Automaton(states={'q1','q2','q3','q4','q5','q6','q7'},\n",
    "              init='q1',\n",
    "              events={'a','b','c','d'},\n",
    "              trans={Transition('q1', 'a', 'q2'),\n",
    "                     Transition('q2', 'd', 'q5'),\n",
    "                     Transition('q5', 'a', 'q6'),\n",
    "                     Transition('q6', 'd', 'q7'),\n",
    "                     Transition('q1', 'c', 'q3'),\n",
    "                     Transition('q2', 'b', 'q4'),\n",
    "                     Transition('q3', 'd', 'q4'),\n",
    "                     Transition('q6', 'b', 'q4')},\n",
    "               marked={'q4'})\n",
    "\n",
    "display(plot_automaton(synch(P,Sp), 'S_7dot6'))\n",
    "S = supervisor(P, Sp, {'d'})\n",
    "plot_automaton(S, 'S_7dot6')"
   ]
  },
  {
   "cell_type": "code",
   "execution_count": 8,
   "metadata": {
    "deletable": false,
    "editable": false,
    "nbgrader": {
     "checksum": "37a966be2cfabe214deeb6078933b03a",
     "grade": true,
     "grade_id": "ex7_6_test",
     "locked": true,
     "points": 1,
     "schema_version": 1,
     "solution": false
    }
   },
   "outputs": [],
   "source": [
    "assert type(S) is Automaton\n",
    "\n",
    "# These tests are optional but simplify the hidden tests\n",
    "p_states={'p1','p2', 'p3', 'p4', 'p5', 'p6', 'p7', 'p8'}\n",
    "q_states={'q1','q2', 'q3', 'q4', 'q5', 'q6', 'q7'}\n",
    "events={'a', 'b', 'c', 'd'}\n",
    "assert all({s.startswith(tuple(p_states)) and s.endswith(tuple(q_states)) for s in S.states}), '\\\n",
    "    This is optional but, to simplify the tests, please use only the state name from the example \\\n",
    "    and synchronize in the same order, i.e init state whould be p1.q1'\n",
    "assert all({e in events for e in S.events}), '\\\n",
    "    This is optional but, to simplify the tests, please use only the event labels from the example.'"
   ]
  },
  {
   "cell_type": "markdown",
   "metadata": {
    "deletable": false,
    "editable": false,
    "nbgrader": {
     "checksum": "31fd9bbc7058a812f5b909cf2a124a5d",
     "grade": false,
     "grade_id": "cell-d0937fdde76dec34",
     "locked": true,
     "schema_version": 1,
     "solution": false
    }
   },
   "source": [
    "## Task 3 - Exam Oct 2015"
   ]
  },
  {
   "cell_type": "code",
   "execution_count": 9,
   "metadata": {
    "deletable": false,
    "nbgrader": {
     "checksum": "3dc0db00d5421f8692b22a4dd1a3e55d",
     "grade": false,
     "grade_id": "task3_15",
     "locked": false,
     "schema_version": 1,
     "solution": true
    }
   },
   "outputs": [
    {
     "data": {
      "image/png": "[encoded data removed]",
      "text/plain": [
       "<IPython.core.display.Image object>"
      ]
     },
     "metadata": {},
     "output_type": "display_data"
    },
    {
     "name": "stdout",
     "output_type": "stream",
     "text": [
      "Initial Uncontrollable: {'p3.q2', 'p8.q3'}\n",
      "\n",
      "New Blocking: {'p7.q3', 'p2.q2'}\n",
      "New Uncontrollable: {'p6.q3'}\n",
      "\n",
      "New Blocking: {'p5.q3'}\n",
      "New Uncontrollable: set()\n",
      "\n",
      "New Blocking: set()\n",
      "New Uncontrollable: set()\n",
      "\n",
      "SafeStates: {'p8.q1', 'p1.q1', 'p4.q4'}\n",
      "\n"
     ]
    },
    {
     "data": {
      "image/png": "[encoded data removed]",
      "text/plain": [
       "<IPython.core.display.Image object>"
      ]
     },
     "execution_count": 9,
     "metadata": {},
     "output_type": "execute_result"
    }
   ],
   "source": [
    "P = Automaton(states={'p1','p2','p3','p4','p5','p6','p7','p8'},\n",
    "              init='p1',\n",
    "              events={'a','b','c','d','e'},\n",
    "              trans={Transition('p1', 'a', 'p2'),\n",
    "                     Transition('p2', 'c', 'p3'),\n",
    "                     Transition('p3', 'b', 'p4'),\n",
    "                     Transition('p3', 'd', 'p4'),\n",
    "                     Transition('p1', 'b', 'p5'),\n",
    "                     Transition('p5', 'c', 'p6'),\n",
    "                     Transition('p6', 'e', 'p7'),\n",
    "                     Transition('p7', 'c', 'p8'),\n",
    "                     Transition('p8', 'd', 'p4'),\n",
    "                     Transition('p6', 'a', 'p4'),\n",
    "                     Transition('p1', 'c', 'p8')},\n",
    "              marked={'p4'})\n",
    "Sp = Automaton(states={'q1','q2','q3','q4'},\n",
    "              init='q1',\n",
    "              events={'a','b','d'},\n",
    "              trans={Transition('q1', 'a', 'q2'),\n",
    "                     Transition('q2', 'b', 'q4'),\n",
    "                     Transition('q1', 'd', 'q4'),\n",
    "                     Transition('q1', 'b', 'q3'),\n",
    "                     Transition('q3', 'a', 'q4')},\n",
    "               marked={'q4'})\n",
    "\n",
    "display(plot_automaton(synch(P,Sp), 'S_7dot6'))\n",
    "\n",
    "S = supervisor(P, Sp, {'d', 'e'})\n",
    "plot_automaton(S, 'S_3_15')"
   ]
  },
  {
   "cell_type": "code",
   "execution_count": 10,
   "metadata": {
    "deletable": false,
    "editable": false,
    "nbgrader": {
     "checksum": "081251fca22bf6eda2ba05618a373f1d",
     "grade": true,
     "grade_id": "task3_15_test",
     "locked": true,
     "points": 1,
     "schema_version": 1,
     "solution": false
    }
   },
   "outputs": [],
   "source": [
    "assert type(S) is Automaton"
   ]
  },
  {
   "cell_type": "markdown",
   "metadata": {
    "deletable": false,
    "editable": false,
    "nbgrader": {
     "checksum": "cd16eff0e124061cc7e9ec74e4c7d589",
     "grade": false,
     "grade_id": "cell-ec841dd5404b6a9b",
     "locked": true,
     "schema_version": 1,
     "solution": false
    }
   },
   "source": [
    "---"
   ]
  },
  {
   "cell_type": "markdown",
   "metadata": {
    "deletable": false,
    "editable": false,
    "nbgrader": {
     "checksum": "42b8023d84b80ced60982d4ce7eeec55",
     "grade": false,
     "grade_id": "cell-95f78bff0e316da3",
     "locked": true,
     "schema_version": 1,
     "solution": false
    }
   },
   "source": [
    "# Task 3\n",
    "\n",
    "Two people named **A** and **B** are playing a simple game. A number of sticks are lain\n",
    "out on the ground and the players take alternately one or two sticks. Note that at least\n",
    "one stick must be picked. The player that ends up with the last stick has lost the game.\n",
    "Player **A** is always the one that starts picking sticks. A related problem is introduced\n",
    "in Task 6.3 in the DES-exercises.\n",
    "\n",
    "* Model this game by an automaton `P`, with an initial number of five sticks. Hint: identify the events and the states.\n",
    "\n",
    "* Create a specification `Sp` by introducing a marked state in `P`, specifying that player **A** is to win and player **B** is to loose. Remember that the player left with only the final stick to pick, is the loser.\n",
    "\n",
    "* Generate by the algorithm in *Task 1* a supervisor `S` which guarantees that player **A** wins the game, i.e `S = supervisor(P, Sp, sigma_u)`. *Note* that the set of uncontrollable events `sigma_u` must first be decided."
   ]
  },
  {
   "cell_type": "code",
   "execution_count": 11,
   "metadata": {
    "deletable": false,
    "nbgrader": {
     "checksum": "174305cbc39da71923f6fef28d31acb4",
     "grade": false,
     "grade_id": "task3",
     "locked": false,
     "schema_version": 1,
     "solution": true
    }
   },
   "outputs": [
    {
     "data": {
      "image/png": "[encoded data removed]",
      "text/plain": [
       "<IPython.core.display.Image object>"
      ]
     },
     "metadata": {},
     "output_type": "display_data"
    },
    {
     "name": "stdout",
     "output_type": "stream",
     "text": [
      "Initial Uncontrollable: set()\n",
      "\n",
      "New Blocking: {'110.110', '001.001'}\n",
      "New Uncontrollable: {'301.301', '201.201'}\n",
      "\n",
      "New Blocking: set()\n",
      "New Uncontrollable: set()\n",
      "\n",
      "SafeStates: {'510.510', '310.310', '010.010', '401.401', '101.101', '210.210'}\n",
      "\n"
     ]
    },
    {
     "data": {
      "image/png": "[encoded data removed]",
      "text/plain": [
       "<IPython.core.display.Image object>"
      ]
     },
     "metadata": {},
     "output_type": "display_data"
    }
   ],
   "source": [
    "P = Automaton(states={'510','410','310','210','110','010',\n",
    "                      '401','301','201','101','001'},\n",
    "              init='510',\n",
    "              events={'a2','a1','b2','b1'},\n",
    "              trans={Transition('510', 'a2', '301'),\n",
    "                     Transition('510', 'a1', '401'),\n",
    "                     \n",
    "                     Transition('201', 'b2', '010'),\n",
    "                     Transition('201', 'b1', '110'),\n",
    "                     Transition('301', 'b2', '110'),\n",
    "                     Transition('301', 'b1', '010'),\n",
    "                     Transition('401', 'b2', '210'),\n",
    "                     Transition('401', 'b1', '310'),\n",
    "                     \n",
    "                     Transition('110', 'a1', '001'),\n",
    "                     Transition('210', 'a2', '001'),\n",
    "                     Transition('210', 'a1', '101'),\n",
    "                     Transition('310', 'a2', '101'),\n",
    "                     Transition('310', 'a1', '201'),\n",
    "                     \n",
    "                     Transition('101', 'b1', '010')})\n",
    "import copy\n",
    "Sp = copy.copy(P)\n",
    "Sp.marked = {'010'}\n",
    "\n",
    "display(plot_automaton(synch(P,Sp), 'S_3_15'))\n",
    "\n",
    "sigma_u = {'b1','b2','b3'}\n",
    "S = supervisor(P, Sp, sigma_u)\n",
    "display(plot_automaton(S, 'S_3_15'))"
   ]
  },
  {
   "cell_type": "code",
   "execution_count": 12,
   "metadata": {
    "deletable": false,
    "editable": false,
    "nbgrader": {
     "checksum": "0105e0b7e9c087ec9ffad1875f6b9009",
     "grade": true,
     "grade_id": "task3_test",
     "locked": true,
     "points": 1,
     "schema_version": 1,
     "solution": false
    }
   },
   "outputs": [],
   "source": [
    "assert type(P) is Automaton\n",
    "assert type(Sp) is Automaton\n",
    "assert type(S) is Automaton\n",
    "\n",
    "assert P.states == Sp.states\n",
    "assert P.events == Sp.events\n",
    "assert P.init == Sp.init\n",
    "assert P.trans == Sp.trans\n",
    "assert P.marked == set() or P.marked == P.states\n",
    "assert len(Sp.marked) == 1"
   ]
  },
  {
   "cell_type": "markdown",
   "metadata": {
    "deletable": false,
    "editable": false,
    "nbgrader": {
     "checksum": "ff9f5bfdc993d162b1f6cd1cf9451b9d",
     "grade": false,
     "grade_id": "cell-ca4413be58012d08",
     "locked": true,
     "schema_version": 1,
     "solution": false
    }
   },
   "source": [
    "- - -\n",
    "\n",
    "Great! You have reached the bottom of the page. If you are done,\n",
    "\n",
    "* Save the notebook\n",
    "* Upload the .ipynb file to Ping Pong\n",
    "* Go for fika! "
   ]
  }
 ],
 "metadata": {
  "kernelspec": {
   "display_name": "Python 3",
   "language": "python",
   "name": "python3"
  },
  "language_info": {
   "codemirror_mode": {
    "name": "ipython",
    "version": 3
   },
   "file_extension": ".py",
   "mimetype": "text/x-python",
   "name": "python",
   "nbconvert_exporter": "python",
   "pygments_lexer": "ipython3",
   "version": "3.6.4"
  },
  "latex_envs": {
   "LaTeX_envs_menu_present": true,
   "autoclose": false,
   "autocomplete": true,
   "bibliofile": "biblio.bib",
   "cite_by": "apalike",
   "current_citInitial": 1,
   "eqLabelWithNumbers": true,
   "eqNumInitial": 1,
   "hotkeys": {
    "equation": "Ctrl-E",
    "itemize": "Ctrl-I"
   },
   "labels_anchors": false,
   "latex_user_defs": false,
   "report_style_numbering": false,
   "user_envs_cfg": false
  }
 },
 "nbformat": 4,
 "nbformat_minor": 2
}
